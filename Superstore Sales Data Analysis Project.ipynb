{
 "cells": [
  {
   "cell_type": "markdown",
   "metadata": {},
   "source": [
    "# Mid-Course Project\n",
    "\n",
    "\n",
    "\n",
    "### Problem Statement\n",
    "\n",
    "A multinational retail company decides to embark on a campaign called **'Operation  Increase Sales and Profit' (OISP)** which focuses on increasing the sales of the company and maximising profit. \n",
    "\n",
    "Before the management team of the company can take any actionable decision with regards to the campagn,they want to draw the necessary insight from their 'sitting data'.\n",
    "\n",
    "As their Data Analyst,you are presented with their four year daily sales records (**superstore data.csv**).\n",
    "\n",
    "#### Task\n",
    "Analyse the given  data and advise management on what to do to increase sales and profit as intended in the compaign.\n",
    "\n",
    "Kindly  outlay your analytical steps inline with CRISP-DM(Cross Industry Standard Process for Data Mining)steps, asking the nescessary questions and providing answers based on the data.\n",
    "\n",
    "\n",
    "Management expects statistical summaries of the key variables considering the aim of the campaign, visualizations and a report on your findings and your advice.\n",
    "\n",
    "**Use Powerpoint or any other presentation application for your presentation.**\n",
    "\n",
    "Good Luck !\n",
    "\n",
    "\n",
    "\n",
    "\n",
    "\n",
    "\n"
   ]
  },
  {
   "cell_type": "code",
   "execution_count": null,
   "metadata": {},
   "outputs": [],
   "source": []
  },
  {
   "cell_type": "code",
   "execution_count": 1,
   "metadata": {},
   "outputs": [],
   "source": [
    "##Importing the necessary packages\n",
    "import pandas as pd\n",
    "import numpy as np\n",
    "import matplotlib.pyplot as plt\n",
    "import seaborn as sns\n",
    "import warnings\n",
    "warnings.filterwarnings('ignore')\n",
    "\n",
    "%matplotlib inline\n",
    "pd.set_option('display.max_colwidth',None)\n",
    "pd.set_option('display.max_columns',None)\n"
   ]
  },
  {
   "cell_type": "code",
   "execution_count": 2,
   "metadata": {},
   "outputs": [],
   "source": [
    "#Reading the data\n",
    "#NB: Make sure you the data in your current working directory\n",
    "\n",
    "data = pd.read_csv('superstore data.csv',parse_dates = ['Order Date','Ship Date'],encoding = 'latin1')"
   ]
  },
  {
   "cell_type": "code",
   "execution_count": 3,
   "metadata": {},
   "outputs": [
    {
     "data": {
      "text/html": [
       "<div>\n",
       "<style scoped>\n",
       "    .dataframe tbody tr th:only-of-type {\n",
       "        vertical-align: middle;\n",
       "    }\n",
       "\n",
       "    .dataframe tbody tr th {\n",
       "        vertical-align: top;\n",
       "    }\n",
       "\n",
       "    .dataframe thead th {\n",
       "        text-align: right;\n",
       "    }\n",
       "</style>\n",
       "<table border=\"1\" class=\"dataframe\">\n",
       "  <thead>\n",
       "    <tr style=\"text-align: right;\">\n",
       "      <th></th>\n",
       "      <th>Row ID</th>\n",
       "      <th>Order ID</th>\n",
       "      <th>Order Date</th>\n",
       "      <th>Ship Date</th>\n",
       "      <th>Ship Mode</th>\n",
       "      <th>Customer ID</th>\n",
       "      <th>Customer Name</th>\n",
       "      <th>Segment</th>\n",
       "      <th>City</th>\n",
       "      <th>State</th>\n",
       "      <th>Country</th>\n",
       "      <th>Postal Code</th>\n",
       "      <th>Market</th>\n",
       "      <th>Region</th>\n",
       "      <th>Product ID</th>\n",
       "      <th>Category</th>\n",
       "      <th>Sub-Category</th>\n",
       "      <th>Product Name</th>\n",
       "      <th>Sales</th>\n",
       "      <th>Quantity</th>\n",
       "      <th>Discount</th>\n",
       "      <th>Profit</th>\n",
       "      <th>Shipping Cost</th>\n",
       "      <th>Order Priority</th>\n",
       "    </tr>\n",
       "  </thead>\n",
       "  <tbody>\n",
       "    <tr>\n",
       "      <th>0</th>\n",
       "      <td>42433</td>\n",
       "      <td>AG-2011-2040</td>\n",
       "      <td>2011-01-01</td>\n",
       "      <td>2011-06-01</td>\n",
       "      <td>Standard Class</td>\n",
       "      <td>TB-11280</td>\n",
       "      <td>Toby Braunhardt</td>\n",
       "      <td>Consumer</td>\n",
       "      <td>Constantine</td>\n",
       "      <td>Constantine</td>\n",
       "      <td>Algeria</td>\n",
       "      <td>NaN</td>\n",
       "      <td>Africa</td>\n",
       "      <td>Africa</td>\n",
       "      <td>OFF-TEN-10000025</td>\n",
       "      <td>Office Supplies</td>\n",
       "      <td>Storage</td>\n",
       "      <td>Tenex Lockers, Blue</td>\n",
       "      <td>408.300</td>\n",
       "      <td>2</td>\n",
       "      <td>0.0</td>\n",
       "      <td>106.140</td>\n",
       "      <td>35.46</td>\n",
       "      <td>Medium</td>\n",
       "    </tr>\n",
       "    <tr>\n",
       "      <th>1</th>\n",
       "      <td>22253</td>\n",
       "      <td>IN-2011-47883</td>\n",
       "      <td>2011-01-01</td>\n",
       "      <td>2011-08-01</td>\n",
       "      <td>Standard Class</td>\n",
       "      <td>JH-15985</td>\n",
       "      <td>Joseph Holt</td>\n",
       "      <td>Consumer</td>\n",
       "      <td>Wagga Wagga</td>\n",
       "      <td>New South Wales</td>\n",
       "      <td>Australia</td>\n",
       "      <td>NaN</td>\n",
       "      <td>APAC</td>\n",
       "      <td>Oceania</td>\n",
       "      <td>OFF-SU-10000618</td>\n",
       "      <td>Office Supplies</td>\n",
       "      <td>Supplies</td>\n",
       "      <td>Acme Trimmer, High Speed</td>\n",
       "      <td>120.366</td>\n",
       "      <td>3</td>\n",
       "      <td>0.1</td>\n",
       "      <td>36.036</td>\n",
       "      <td>9.72</td>\n",
       "      <td>Medium</td>\n",
       "    </tr>\n",
       "  </tbody>\n",
       "</table>\n",
       "</div>"
      ],
      "text/plain": [
       "   Row ID       Order ID Order Date  Ship Date       Ship Mode Customer ID  \\\n",
       "0   42433   AG-2011-2040 2011-01-01 2011-06-01  Standard Class    TB-11280   \n",
       "1   22253  IN-2011-47883 2011-01-01 2011-08-01  Standard Class    JH-15985   \n",
       "\n",
       "     Customer Name   Segment         City            State    Country  \\\n",
       "0  Toby Braunhardt  Consumer  Constantine      Constantine    Algeria   \n",
       "1      Joseph Holt  Consumer  Wagga Wagga  New South Wales  Australia   \n",
       "\n",
       "   Postal Code  Market   Region        Product ID         Category  \\\n",
       "0          NaN  Africa   Africa  OFF-TEN-10000025  Office Supplies   \n",
       "1          NaN    APAC  Oceania   OFF-SU-10000618  Office Supplies   \n",
       "\n",
       "  Sub-Category              Product Name    Sales  Quantity  Discount  \\\n",
       "0      Storage       Tenex Lockers, Blue  408.300         2       0.0   \n",
       "1     Supplies  Acme Trimmer, High Speed  120.366         3       0.1   \n",
       "\n",
       "    Profit  Shipping Cost Order Priority  \n",
       "0  106.140          35.46         Medium  \n",
       "1   36.036           9.72         Medium  "
      ]
     },
     "execution_count": 3,
     "metadata": {},
     "output_type": "execute_result"
    }
   ],
   "source": [
    "data.head(2)"
   ]
  },
  {
   "cell_type": "code",
   "execution_count": null,
   "metadata": {},
   "outputs": [],
   "source": []
  },
  {
   "cell_type": "markdown",
   "metadata": {},
   "source": [
    "### Hints on Data preparation and exploration \n",
    "\n",
    "1. Load the data.\n",
    "2. Inspect the data\n",
    "3. Check for missing values\n",
    "4. Check the data of each column\n",
    "5. Check the different categories in the categorical variables\n",
    "6. Take a view of the data\n",
    "7. Take the descritive statistics for the numerical variables\n",
    "9. Check the ditribution of the variables\n",
    "10. Feature Engineering\n",
    "#Create columns for:\n",
    "\n",
    "#Unit price (sale/quantity)\n",
    "\n",
    "#Year\n",
    "\n",
    "#Month\n",
    "\n",
    "#interval between the order date and the shipping date in days.\n"
   ]
  },
  {
   "cell_type": "markdown",
   "metadata": {},
   "source": [
    "## Hints on the analysis "
   ]
  },
  {
   "cell_type": "markdown",
   "metadata": {},
   "source": [
    "### Check: The following  possible questions may of interest to you.\n",
    "\n",
    "1. What is the sales and profit per market? \n",
    "\n",
    "2. What is the most and least profitable market?\n",
    "\n",
    "3. How are you going to increase the sales for the products that least bought?\n",
    "\n",
    "4. Which month does the company records more sales?\n",
    "\n",
    "5. What is the correlation between discount and sale?\n",
    "\n",
    "6. Does the shipping cost affect the sales?\n",
    "\n",
    "7. What is the dominant product category in each market?\n",
    "\n",
    "8. City with most orders for a given product category?\n",
    "\n",
    "9. which products are making loss?\n",
    "\n",
    "10. Which segment provides more profit?\n",
    "\n",
    "11. what is the correlation between quantity and profit?\n",
    "\n",
    "12. what it the correlation between shipping cost and profit?\n",
    "\n",
    "13. Which order priority yields more sales?\n",
    "\n",
    "14. What is the average shipping cost to each region?\n",
    "\n",
    "15. What product categories should be targetted to the  different markets?\n",
    "\n",
    "16. Does the interval between the order date and the shipping date affect sale and profit\n"
   ]
  },
  {
   "cell_type": "markdown",
   "metadata": {},
   "source": [
    "# A. Data Preparation and Exploration"
   ]
  },
  {
   "cell_type": "markdown",
   "metadata": {},
   "source": [
    "**2. Inspect the data**"
   ]
  },
  {
   "cell_type": "code",
   "execution_count": null,
   "metadata": {
    "scrolled": true
   },
   "outputs": [],
   "source": []
  },
  {
   "cell_type": "code",
   "execution_count": null,
   "metadata": {},
   "outputs": [],
   "source": []
  },
  {
   "cell_type": "code",
   "execution_count": null,
   "metadata": {},
   "outputs": [],
   "source": []
  },
  {
   "cell_type": "markdown",
   "metadata": {},
   "source": [
    "**Analyzing the variables** \n",
    "- There are 23 variables (columns)\n",
    " "
   ]
  },
  {
   "cell_type": "markdown",
   "metadata": {},
   "source": [
    "- Missing values and more information: "
   ]
  },
  {
   "cell_type": "code",
   "execution_count": null,
   "metadata": {},
   "outputs": [],
   "source": []
  },
  {
   "cell_type": "code",
   "execution_count": null,
   "metadata": {},
   "outputs": [],
   "source": []
  },
  {
   "cell_type": "code",
   "execution_count": 4,
   "metadata": {},
   "outputs": [
    {
     "data": {
      "text/html": [
       "<div>\n",
       "<style scoped>\n",
       "    .dataframe tbody tr th:only-of-type {\n",
       "        vertical-align: middle;\n",
       "    }\n",
       "\n",
       "    .dataframe tbody tr th {\n",
       "        vertical-align: top;\n",
       "    }\n",
       "\n",
       "    .dataframe thead th {\n",
       "        text-align: right;\n",
       "    }\n",
       "</style>\n",
       "<table border=\"1\" class=\"dataframe\">\n",
       "  <thead>\n",
       "    <tr style=\"text-align: right;\">\n",
       "      <th></th>\n",
       "      <th>Order ID</th>\n",
       "      <th>Ship Mode</th>\n",
       "      <th>Customer ID</th>\n",
       "      <th>Customer Name</th>\n",
       "      <th>Segment</th>\n",
       "      <th>City</th>\n",
       "      <th>State</th>\n",
       "      <th>Country</th>\n",
       "      <th>Market</th>\n",
       "      <th>Region</th>\n",
       "      <th>Product ID</th>\n",
       "      <th>Category</th>\n",
       "      <th>Sub-Category</th>\n",
       "      <th>Product Name</th>\n",
       "      <th>Order Priority</th>\n",
       "    </tr>\n",
       "  </thead>\n",
       "  <tbody>\n",
       "    <tr>\n",
       "      <th>count</th>\n",
       "      <td>51290</td>\n",
       "      <td>51290</td>\n",
       "      <td>51290</td>\n",
       "      <td>51290</td>\n",
       "      <td>51290</td>\n",
       "      <td>51290</td>\n",
       "      <td>51290</td>\n",
       "      <td>51290</td>\n",
       "      <td>51290</td>\n",
       "      <td>51290</td>\n",
       "      <td>51290</td>\n",
       "      <td>51290</td>\n",
       "      <td>51290</td>\n",
       "      <td>51290</td>\n",
       "      <td>51290</td>\n",
       "    </tr>\n",
       "    <tr>\n",
       "      <th>unique</th>\n",
       "      <td>25035</td>\n",
       "      <td>4</td>\n",
       "      <td>1590</td>\n",
       "      <td>795</td>\n",
       "      <td>3</td>\n",
       "      <td>3636</td>\n",
       "      <td>1094</td>\n",
       "      <td>147</td>\n",
       "      <td>7</td>\n",
       "      <td>13</td>\n",
       "      <td>10292</td>\n",
       "      <td>3</td>\n",
       "      <td>17</td>\n",
       "      <td>3788</td>\n",
       "      <td>4</td>\n",
       "    </tr>\n",
       "    <tr>\n",
       "      <th>top</th>\n",
       "      <td>CA-2014-100111</td>\n",
       "      <td>Standard Class</td>\n",
       "      <td>PO-18850</td>\n",
       "      <td>Muhammed Yedwab</td>\n",
       "      <td>Consumer</td>\n",
       "      <td>New York City</td>\n",
       "      <td>California</td>\n",
       "      <td>United States</td>\n",
       "      <td>APAC</td>\n",
       "      <td>Central</td>\n",
       "      <td>OFF-AR-10003651</td>\n",
       "      <td>Office Supplies</td>\n",
       "      <td>Binders</td>\n",
       "      <td>Staples</td>\n",
       "      <td>Medium</td>\n",
       "    </tr>\n",
       "    <tr>\n",
       "      <th>freq</th>\n",
       "      <td>14</td>\n",
       "      <td>30775</td>\n",
       "      <td>97</td>\n",
       "      <td>108</td>\n",
       "      <td>26518</td>\n",
       "      <td>915</td>\n",
       "      <td>2001</td>\n",
       "      <td>9994</td>\n",
       "      <td>11002</td>\n",
       "      <td>11117</td>\n",
       "      <td>35</td>\n",
       "      <td>31273</td>\n",
       "      <td>6152</td>\n",
       "      <td>227</td>\n",
       "      <td>29433</td>\n",
       "    </tr>\n",
       "  </tbody>\n",
       "</table>\n",
       "</div>"
      ],
      "text/plain": [
       "              Order ID       Ship Mode Customer ID    Customer Name   Segment  \\\n",
       "count            51290           51290       51290            51290     51290   \n",
       "unique           25035               4        1590              795         3   \n",
       "top     CA-2014-100111  Standard Class    PO-18850  Muhammed Yedwab  Consumer   \n",
       "freq                14           30775          97              108     26518   \n",
       "\n",
       "                 City       State        Country Market   Region  \\\n",
       "count           51290       51290          51290  51290    51290   \n",
       "unique           3636        1094            147      7       13   \n",
       "top     New York City  California  United States   APAC  Central   \n",
       "freq              915        2001           9994  11002    11117   \n",
       "\n",
       "             Product ID         Category Sub-Category Product Name  \\\n",
       "count             51290            51290        51290        51290   \n",
       "unique            10292                3           17         3788   \n",
       "top     OFF-AR-10003651  Office Supplies      Binders      Staples   \n",
       "freq                 35            31273         6152          227   \n",
       "\n",
       "       Order Priority  \n",
       "count           51290  \n",
       "unique              4  \n",
       "top            Medium  \n",
       "freq            29433  "
      ]
     },
     "execution_count": 4,
     "metadata": {},
     "output_type": "execute_result"
    }
   ],
   "source": [
    "### Taking a summary of the categocal columns alone\n",
    "data.describe(include = 'object')"
   ]
  },
  {
   "cell_type": "code",
   "execution_count": 5,
   "metadata": {},
   "outputs": [],
   "source": [
    "#This function provides a quick access to a single summary statistic of a column variable\n",
    "# the column type to be specified could be: object or np.number\n",
    "# Possible values of stat_name for val = np.number are: 'count', 'mean', 'std', 'min',\n",
    "#'25%', '50%', '75%', 'max', unique, top, freq\n",
    "\n",
    "def individual_summary_col (obj, stat_name, col):\n",
    "    get_index = data.describe(include = obj).index\n",
    "    my_id = []\n",
    "    for idx in get_index:\n",
    "        my_id.append(idx)\n",
    "    \n",
    "    ii = my_id.index(stat_name) \n",
    "           \n",
    "    return  data.describe(include = obj).loc[[stat_name],[col]]\n",
    "\n",
    "individual_summary_col (object, 'top', 'Customer Name') # A function taking 3 arguments \n",
    "                                                        # Can be used to identify top \n",
    "                                                        # columns e.g. customers, top products \n",
    "                                                        # in terms of their numbers, frequently used \n",
    "                                                        # shiping mode, highest order priority used\n",
    "                                                        # highest product sold, etc.\n",
    "                                                        # THE function can also be used to determine\n",
    "                                                        # max, min, mean, std of sales, profits, \n",
    "                                                        # quantity, unit price, quantity, etc\n",
    "\n",
    "new_data_country = data.copy()\n",
    "new_data_country.set_index('Country',inplace = True)  # set country as key\n"
   ]
  },
  {
   "cell_type": "code",
   "execution_count": 6,
   "metadata": {},
   "outputs": [
    {
     "data": {
      "text/html": [
       "<div>\n",
       "<style scoped>\n",
       "    .dataframe tbody tr th:only-of-type {\n",
       "        vertical-align: middle;\n",
       "    }\n",
       "\n",
       "    .dataframe tbody tr th {\n",
       "        vertical-align: top;\n",
       "    }\n",
       "\n",
       "    .dataframe thead th {\n",
       "        text-align: right;\n",
       "    }\n",
       "</style>\n",
       "<table border=\"1\" class=\"dataframe\">\n",
       "  <thead>\n",
       "    <tr style=\"text-align: right;\">\n",
       "      <th></th>\n",
       "      <th>Market</th>\n",
       "      <th>Category</th>\n",
       "      <th>Country</th>\n",
       "    </tr>\n",
       "  </thead>\n",
       "  <tbody>\n",
       "    <tr>\n",
       "      <th>43453</th>\n",
       "      <td>US</td>\n",
       "      <td>Technology</td>\n",
       "      <td>United States</td>\n",
       "    </tr>\n",
       "  </tbody>\n",
       "</table>\n",
       "</div>"
      ],
      "text/plain": [
       "      Market    Category        Country\n",
       "43453     US  Technology  United States"
      ]
     },
     "execution_count": 6,
     "metadata": {},
     "output_type": "execute_result"
    }
   ],
   "source": [
    "data[data['Profit'] == -6599.978000][['Market', 'Category', 'Country']] # Analysis on lowest profit"
   ]
  },
  {
   "cell_type": "markdown",
   "metadata": {},
   "source": [
    "\n",
    "# Data Cleaning\n",
    "\n",
    "**Finding missing values**"
   ]
  },
  {
   "cell_type": "code",
   "execution_count": null,
   "metadata": {},
   "outputs": [],
   "source": []
  },
  {
   "cell_type": "code",
   "execution_count": 7,
   "metadata": {},
   "outputs": [
    {
     "data": {
      "text/plain": [
       "Row ID                0\n",
       "Order ID              0\n",
       "Order Date            0\n",
       "Ship Date             0\n",
       "Ship Mode             0\n",
       "Customer ID           0\n",
       "Customer Name         0\n",
       "Segment               0\n",
       "City                  0\n",
       "State                 0\n",
       "Country               0\n",
       "Postal Code       41296\n",
       "Market                0\n",
       "Region                0\n",
       "Product ID            0\n",
       "Category              0\n",
       "Sub-Category          0\n",
       "Product Name          0\n",
       "Sales                 0\n",
       "Quantity              0\n",
       "Discount              0\n",
       "Profit                0\n",
       "Shipping Cost         0\n",
       "Order Priority        0\n",
       "dtype: int64"
      ]
     },
     "execution_count": 7,
     "metadata": {},
     "output_type": "execute_result"
    }
   ],
   "source": [
    "# Number of missing values in each column\n",
    "data.isnull().sum()"
   ]
  },
  {
   "cell_type": "markdown",
   "metadata": {},
   "source": [
    "# Dealing with missing values\n",
    "Replacing missing values"
   ]
  },
  {
   "cell_type": "code",
   "execution_count": null,
   "metadata": {},
   "outputs": [],
   "source": []
  },
  {
   "cell_type": "markdown",
   "metadata": {},
   "source": [
    "# Transforming variables and table\n",
    "- Dates"
   ]
  },
  {
   "cell_type": "code",
   "execution_count": 8,
   "metadata": {},
   "outputs": [],
   "source": [
    "data['Order Date'] = pd.to_datetime(data['Order Date'])\n",
    "data['Ship Date'] = pd.to_datetime(data['Ship Date'])\n",
    "\n",
    "weeks_ship = data['Ship Date'].dt.day_name()\n",
    "months_order = data['Order Date'].dt.month_name()\n",
    "months_ship = data['Ship Date'].dt.month_name()\n",
    "years_order = data['Order Date'].dt.year\n",
    "years_ship = data['Ship Date'].dt.year\n",
    "\n",
    "data['Ship Weekday'] = weeks_ship\n",
    "data['Order Date_M'] = months_order\n",
    "data['Ship Date_M'] = months_ship\n",
    "data['Order Date_Y'] = years_order\n",
    "data['Ship Date_Y'] = years_ship\n",
    "\n"
   ]
  },
  {
   "cell_type": "markdown",
   "metadata": {},
   "source": [
    "- **Date Difference**"
   ]
  },
  {
   "cell_type": "code",
   "execution_count": 9,
   "metadata": {},
   "outputs": [],
   "source": [
    "cust_leadtime = data['Ship Date'] - data['Order Date'] # Determine the customer lead time by subtracting\n",
    "                                                       # Order date from shipping date"
   ]
  },
  {
   "cell_type": "code",
   "execution_count": 10,
   "metadata": {},
   "outputs": [],
   "source": [
    "data['Lead Time'] = cust_leadtime    # customer lead time is added to the data frame of 'data'"
   ]
  },
  {
   "cell_type": "code",
   "execution_count": 11,
   "metadata": {},
   "outputs": [],
   "source": [
    "# Converting the leadtime into integers\n",
    "\n",
    "leadtime_array = list(np.array(data['Lead Time']))\n",
    "\n",
    "empty_list = []\n",
    "\n",
    "for i_d in range (51290):\n",
    "    val = leadtime_array[i_d].astype('timedelta64[D]')/np.timedelta64(1, 'D')\n",
    "\n",
    "    empty_list.append(val)\n",
    "\n",
    "    \n",
    "    \n",
    "leadtime_int = np.array(empty_list).astype(int) # turns lead time values from list to array. \n",
    "                                                # Proceed to change it from float to int\n",
    "\n",
    "data['Lead Time_Int'] = leadtime_int # Add leadtime, in integers, to original 'data' "
   ]
  },
  {
   "cell_type": "markdown",
   "metadata": {},
   "source": [
    "#### Adding Cost,  Unit Cost"
   ]
  },
  {
   "cell_type": "code",
   "execution_count": 12,
   "metadata": {
    "scrolled": true
   },
   "outputs": [],
   "source": [
    "data['Cost'] = data['Sales'] - data['Profit']\n",
    "data['Unit Cost'] = data['Cost']/data['Quantity']"
   ]
  },
  {
   "cell_type": "code",
   "execution_count": 13,
   "metadata": {},
   "outputs": [],
   "source": [
    "#data[data['Lead Time_Int'] < 0]# Transactions with negative lead time"
   ]
  },
  {
   "cell_type": "code",
   "execution_count": 14,
   "metadata": {},
   "outputs": [
    {
     "data": {
      "text/html": [
       "<div>\n",
       "<style scoped>\n",
       "    .dataframe tbody tr th:only-of-type {\n",
       "        vertical-align: middle;\n",
       "    }\n",
       "\n",
       "    .dataframe tbody tr th {\n",
       "        vertical-align: top;\n",
       "    }\n",
       "\n",
       "    .dataframe thead th {\n",
       "        text-align: right;\n",
       "    }\n",
       "</style>\n",
       "<table border=\"1\" class=\"dataframe\">\n",
       "  <thead>\n",
       "    <tr style=\"text-align: right;\">\n",
       "      <th></th>\n",
       "      <th>Unit Cost</th>\n",
       "      <th>Profit</th>\n",
       "      <th>Sales</th>\n",
       "    </tr>\n",
       "    <tr>\n",
       "      <th>Category</th>\n",
       "      <th></th>\n",
       "      <th></th>\n",
       "      <th></th>\n",
       "    </tr>\n",
       "  </thead>\n",
       "  <tbody>\n",
       "    <tr>\n",
       "      <th>Office Supplies</th>\n",
       "      <td>30.694515</td>\n",
       "      <td>16.578961</td>\n",
       "      <td>121.097120</td>\n",
       "    </tr>\n",
       "    <tr>\n",
       "      <th>Furniture</th>\n",
       "      <td>111.734501</td>\n",
       "      <td>28.878567</td>\n",
       "      <td>416.248905</td>\n",
       "    </tr>\n",
       "    <tr>\n",
       "      <th>Technology</th>\n",
       "      <td>117.868095</td>\n",
       "      <td>65.454958</td>\n",
       "      <td>467.858939</td>\n",
       "    </tr>\n",
       "  </tbody>\n",
       "</table>\n",
       "</div>"
      ],
      "text/plain": [
       "                  Unit Cost     Profit       Sales\n",
       "Category                                          \n",
       "Office Supplies   30.694515  16.578961  121.097120\n",
       "Furniture        111.734501  28.878567  416.248905\n",
       "Technology       117.868095  65.454958  467.858939"
      ]
     },
     "execution_count": 14,
     "metadata": {},
     "output_type": "execute_result"
    }
   ],
   "source": [
    "data[['Unit Cost', 'Category', 'Profit', 'Sales']].groupby('Category').mean().sort_values('Unit Cost')"
   ]
  },
  {
   "cell_type": "code",
   "execution_count": 15,
   "metadata": {},
   "outputs": [],
   "source": [
    "#data[['Unit Cost', 'Category', 'Profit', 'Sales']]"
   ]
  },
  {
   "cell_type": "code",
   "execution_count": null,
   "metadata": {},
   "outputs": [],
   "source": []
  },
  {
   "cell_type": "code",
   "execution_count": 41,
   "metadata": {
    "scrolled": true
   },
   "outputs": [
    {
     "data": {
      "text/html": [
       "<div>\n",
       "<style scoped>\n",
       "    .dataframe tbody tr th:only-of-type {\n",
       "        vertical-align: middle;\n",
       "    }\n",
       "\n",
       "    .dataframe tbody tr th {\n",
       "        vertical-align: top;\n",
       "    }\n",
       "\n",
       "    .dataframe thead th {\n",
       "        text-align: right;\n",
       "    }\n",
       "</style>\n",
       "<table border=\"1\" class=\"dataframe\">\n",
       "  <thead>\n",
       "    <tr style=\"text-align: right;\">\n",
       "      <th></th>\n",
       "      <th>Row ID</th>\n",
       "      <th>Order ID</th>\n",
       "      <th>Order Date</th>\n",
       "      <th>Ship Date</th>\n",
       "      <th>Ship Mode</th>\n",
       "      <th>Customer ID</th>\n",
       "      <th>Customer Name</th>\n",
       "      <th>Segment</th>\n",
       "      <th>City</th>\n",
       "      <th>State</th>\n",
       "      <th>Country</th>\n",
       "      <th>Postal Code</th>\n",
       "      <th>Market</th>\n",
       "      <th>Region</th>\n",
       "      <th>Product ID</th>\n",
       "      <th>Category</th>\n",
       "      <th>Sub-Category</th>\n",
       "      <th>Product Name</th>\n",
       "      <th>Sales</th>\n",
       "      <th>Quantity</th>\n",
       "      <th>Discount</th>\n",
       "      <th>Profit</th>\n",
       "      <th>Shipping Cost</th>\n",
       "      <th>Order Priority</th>\n",
       "      <th>Ship Weekday</th>\n",
       "      <th>Order Date_M</th>\n",
       "      <th>Ship Date_M</th>\n",
       "      <th>Order Date_Y</th>\n",
       "      <th>Ship Date_Y</th>\n",
       "      <th>Lead Time</th>\n",
       "      <th>Lead Time_Int</th>\n",
       "      <th>Cost</th>\n",
       "      <th>Unit Cost</th>\n",
       "    </tr>\n",
       "  </thead>\n",
       "  <tbody>\n",
       "    <tr>\n",
       "      <th>0</th>\n",
       "      <td>42433</td>\n",
       "      <td>AG-2011-2040</td>\n",
       "      <td>2011-01-01</td>\n",
       "      <td>2011-06-01</td>\n",
       "      <td>Standard Class</td>\n",
       "      <td>TB-11280</td>\n",
       "      <td>Toby Braunhardt</td>\n",
       "      <td>Consumer</td>\n",
       "      <td>Constantine</td>\n",
       "      <td>Constantine</td>\n",
       "      <td>Algeria</td>\n",
       "      <td>NaN</td>\n",
       "      <td>Africa</td>\n",
       "      <td>Africa</td>\n",
       "      <td>OFF-TEN-10000025</td>\n",
       "      <td>Office Supplies</td>\n",
       "      <td>Storage</td>\n",
       "      <td>Tenex Lockers, Blue</td>\n",
       "      <td>408.300</td>\n",
       "      <td>2</td>\n",
       "      <td>0.0</td>\n",
       "      <td>106.1400</td>\n",
       "      <td>35.46</td>\n",
       "      <td>Medium</td>\n",
       "      <td>Wednesday</td>\n",
       "      <td>January</td>\n",
       "      <td>June</td>\n",
       "      <td>2011</td>\n",
       "      <td>2011</td>\n",
       "      <td>151 days</td>\n",
       "      <td>151</td>\n",
       "      <td>302.1600</td>\n",
       "      <td>151.0800</td>\n",
       "    </tr>\n",
       "    <tr>\n",
       "      <th>1</th>\n",
       "      <td>22253</td>\n",
       "      <td>IN-2011-47883</td>\n",
       "      <td>2011-01-01</td>\n",
       "      <td>2011-08-01</td>\n",
       "      <td>Standard Class</td>\n",
       "      <td>JH-15985</td>\n",
       "      <td>Joseph Holt</td>\n",
       "      <td>Consumer</td>\n",
       "      <td>Wagga Wagga</td>\n",
       "      <td>New South Wales</td>\n",
       "      <td>Australia</td>\n",
       "      <td>NaN</td>\n",
       "      <td>APAC</td>\n",
       "      <td>Oceania</td>\n",
       "      <td>OFF-SU-10000618</td>\n",
       "      <td>Office Supplies</td>\n",
       "      <td>Supplies</td>\n",
       "      <td>Acme Trimmer, High Speed</td>\n",
       "      <td>120.366</td>\n",
       "      <td>3</td>\n",
       "      <td>0.1</td>\n",
       "      <td>36.0360</td>\n",
       "      <td>9.72</td>\n",
       "      <td>Medium</td>\n",
       "      <td>Monday</td>\n",
       "      <td>January</td>\n",
       "      <td>August</td>\n",
       "      <td>2011</td>\n",
       "      <td>2011</td>\n",
       "      <td>212 days</td>\n",
       "      <td>212</td>\n",
       "      <td>84.3300</td>\n",
       "      <td>28.1100</td>\n",
       "    </tr>\n",
       "    <tr>\n",
       "      <th>2</th>\n",
       "      <td>48883</td>\n",
       "      <td>HU-2011-1220</td>\n",
       "      <td>2011-01-01</td>\n",
       "      <td>2011-05-01</td>\n",
       "      <td>Second Class</td>\n",
       "      <td>AT-735</td>\n",
       "      <td>Annie Thurman</td>\n",
       "      <td>Consumer</td>\n",
       "      <td>Budapest</td>\n",
       "      <td>Budapest</td>\n",
       "      <td>Hungary</td>\n",
       "      <td>NaN</td>\n",
       "      <td>EMEA</td>\n",
       "      <td>EMEA</td>\n",
       "      <td>OFF-TEN-10001585</td>\n",
       "      <td>Office Supplies</td>\n",
       "      <td>Storage</td>\n",
       "      <td>Tenex Box, Single Width</td>\n",
       "      <td>66.120</td>\n",
       "      <td>4</td>\n",
       "      <td>0.0</td>\n",
       "      <td>29.6400</td>\n",
       "      <td>8.17</td>\n",
       "      <td>High</td>\n",
       "      <td>Sunday</td>\n",
       "      <td>January</td>\n",
       "      <td>May</td>\n",
       "      <td>2011</td>\n",
       "      <td>2011</td>\n",
       "      <td>120 days</td>\n",
       "      <td>120</td>\n",
       "      <td>36.4800</td>\n",
       "      <td>9.1200</td>\n",
       "    </tr>\n",
       "    <tr>\n",
       "      <th>3</th>\n",
       "      <td>11731</td>\n",
       "      <td>IT-2011-3647632</td>\n",
       "      <td>2011-01-01</td>\n",
       "      <td>2011-05-01</td>\n",
       "      <td>Second Class</td>\n",
       "      <td>EM-14140</td>\n",
       "      <td>Eugene Moren</td>\n",
       "      <td>Home Office</td>\n",
       "      <td>Stockholm</td>\n",
       "      <td>Stockholm</td>\n",
       "      <td>Sweden</td>\n",
       "      <td>NaN</td>\n",
       "      <td>EU</td>\n",
       "      <td>North</td>\n",
       "      <td>OFF-PA-10001492</td>\n",
       "      <td>Office Supplies</td>\n",
       "      <td>Paper</td>\n",
       "      <td>Enermax Note Cards, Premium</td>\n",
       "      <td>44.865</td>\n",
       "      <td>3</td>\n",
       "      <td>0.5</td>\n",
       "      <td>-26.0550</td>\n",
       "      <td>4.82</td>\n",
       "      <td>High</td>\n",
       "      <td>Sunday</td>\n",
       "      <td>January</td>\n",
       "      <td>May</td>\n",
       "      <td>2011</td>\n",
       "      <td>2011</td>\n",
       "      <td>120 days</td>\n",
       "      <td>120</td>\n",
       "      <td>70.9200</td>\n",
       "      <td>23.6400</td>\n",
       "    </tr>\n",
       "    <tr>\n",
       "      <th>4</th>\n",
       "      <td>22255</td>\n",
       "      <td>IN-2011-47883</td>\n",
       "      <td>2011-01-01</td>\n",
       "      <td>2011-08-01</td>\n",
       "      <td>Standard Class</td>\n",
       "      <td>JH-15985</td>\n",
       "      <td>Joseph Holt</td>\n",
       "      <td>Consumer</td>\n",
       "      <td>Wagga Wagga</td>\n",
       "      <td>New South Wales</td>\n",
       "      <td>Australia</td>\n",
       "      <td>NaN</td>\n",
       "      <td>APAC</td>\n",
       "      <td>Oceania</td>\n",
       "      <td>FUR-FU-10003447</td>\n",
       "      <td>Furniture</td>\n",
       "      <td>Furnishings</td>\n",
       "      <td>Eldon Light Bulb, Duo Pack</td>\n",
       "      <td>113.670</td>\n",
       "      <td>5</td>\n",
       "      <td>0.1</td>\n",
       "      <td>37.7700</td>\n",
       "      <td>4.70</td>\n",
       "      <td>Medium</td>\n",
       "      <td>Monday</td>\n",
       "      <td>January</td>\n",
       "      <td>August</td>\n",
       "      <td>2011</td>\n",
       "      <td>2011</td>\n",
       "      <td>212 days</td>\n",
       "      <td>212</td>\n",
       "      <td>75.9000</td>\n",
       "      <td>15.1800</td>\n",
       "    </tr>\n",
       "    <tr>\n",
       "      <th>...</th>\n",
       "      <td>...</td>\n",
       "      <td>...</td>\n",
       "      <td>...</td>\n",
       "      <td>...</td>\n",
       "      <td>...</td>\n",
       "      <td>...</td>\n",
       "      <td>...</td>\n",
       "      <td>...</td>\n",
       "      <td>...</td>\n",
       "      <td>...</td>\n",
       "      <td>...</td>\n",
       "      <td>...</td>\n",
       "      <td>...</td>\n",
       "      <td>...</td>\n",
       "      <td>...</td>\n",
       "      <td>...</td>\n",
       "      <td>...</td>\n",
       "      <td>...</td>\n",
       "      <td>...</td>\n",
       "      <td>...</td>\n",
       "      <td>...</td>\n",
       "      <td>...</td>\n",
       "      <td>...</td>\n",
       "      <td>...</td>\n",
       "      <td>...</td>\n",
       "      <td>...</td>\n",
       "      <td>...</td>\n",
       "      <td>...</td>\n",
       "      <td>...</td>\n",
       "      <td>...</td>\n",
       "      <td>...</td>\n",
       "      <td>...</td>\n",
       "      <td>...</td>\n",
       "    </tr>\n",
       "    <tr>\n",
       "      <th>51285</th>\n",
       "      <td>32593</td>\n",
       "      <td>CA-2014-115427</td>\n",
       "      <td>2014-12-31</td>\n",
       "      <td>2015-04-01</td>\n",
       "      <td>Standard Class</td>\n",
       "      <td>EB-13975</td>\n",
       "      <td>Erica Bern</td>\n",
       "      <td>Corporate</td>\n",
       "      <td>Fairfield</td>\n",
       "      <td>California</td>\n",
       "      <td>United States</td>\n",
       "      <td>94533.0</td>\n",
       "      <td>US</td>\n",
       "      <td>West</td>\n",
       "      <td>OFF-BI-10002103</td>\n",
       "      <td>Office Supplies</td>\n",
       "      <td>Binders</td>\n",
       "      <td>Cardinal Slant-D Ring Binder, Heavy Gauge Vinyl</td>\n",
       "      <td>13.904</td>\n",
       "      <td>2</td>\n",
       "      <td>0.2</td>\n",
       "      <td>4.5188</td>\n",
       "      <td>0.89</td>\n",
       "      <td>Medium</td>\n",
       "      <td>Wednesday</td>\n",
       "      <td>December</td>\n",
       "      <td>April</td>\n",
       "      <td>2014</td>\n",
       "      <td>2015</td>\n",
       "      <td>91 days</td>\n",
       "      <td>91</td>\n",
       "      <td>9.3852</td>\n",
       "      <td>4.6926</td>\n",
       "    </tr>\n",
       "    <tr>\n",
       "      <th>51286</th>\n",
       "      <td>47594</td>\n",
       "      <td>MO-2014-2560</td>\n",
       "      <td>2014-12-31</td>\n",
       "      <td>2015-05-01</td>\n",
       "      <td>Standard Class</td>\n",
       "      <td>LP-7095</td>\n",
       "      <td>Liz Preis</td>\n",
       "      <td>Consumer</td>\n",
       "      <td>Agadir</td>\n",
       "      <td>Souss-Massa-Draâ</td>\n",
       "      <td>Morocco</td>\n",
       "      <td>NaN</td>\n",
       "      <td>Africa</td>\n",
       "      <td>Africa</td>\n",
       "      <td>OFF-WIL-10001069</td>\n",
       "      <td>Office Supplies</td>\n",
       "      <td>Binders</td>\n",
       "      <td>Wilson Jones Hole Reinforcements, Clear</td>\n",
       "      <td>3.990</td>\n",
       "      <td>1</td>\n",
       "      <td>0.0</td>\n",
       "      <td>0.4200</td>\n",
       "      <td>0.49</td>\n",
       "      <td>Medium</td>\n",
       "      <td>Friday</td>\n",
       "      <td>December</td>\n",
       "      <td>May</td>\n",
       "      <td>2014</td>\n",
       "      <td>2015</td>\n",
       "      <td>121 days</td>\n",
       "      <td>121</td>\n",
       "      <td>3.5700</td>\n",
       "      <td>3.5700</td>\n",
       "    </tr>\n",
       "    <tr>\n",
       "      <th>51287</th>\n",
       "      <td>8857</td>\n",
       "      <td>MX-2014-110527</td>\n",
       "      <td>2014-12-31</td>\n",
       "      <td>2015-02-01</td>\n",
       "      <td>Second Class</td>\n",
       "      <td>CM-12190</td>\n",
       "      <td>Charlotte Melton</td>\n",
       "      <td>Consumer</td>\n",
       "      <td>Managua</td>\n",
       "      <td>Managua</td>\n",
       "      <td>Nicaragua</td>\n",
       "      <td>NaN</td>\n",
       "      <td>LATAM</td>\n",
       "      <td>Central</td>\n",
       "      <td>OFF-LA-10004182</td>\n",
       "      <td>Office Supplies</td>\n",
       "      <td>Labels</td>\n",
       "      <td>Hon Color Coded Labels, 5000 Label Set</td>\n",
       "      <td>26.400</td>\n",
       "      <td>3</td>\n",
       "      <td>0.0</td>\n",
       "      <td>12.3600</td>\n",
       "      <td>0.35</td>\n",
       "      <td>Medium</td>\n",
       "      <td>Sunday</td>\n",
       "      <td>December</td>\n",
       "      <td>February</td>\n",
       "      <td>2014</td>\n",
       "      <td>2015</td>\n",
       "      <td>32 days</td>\n",
       "      <td>32</td>\n",
       "      <td>14.0400</td>\n",
       "      <td>4.6800</td>\n",
       "    </tr>\n",
       "    <tr>\n",
       "      <th>51288</th>\n",
       "      <td>6852</td>\n",
       "      <td>MX-2014-114783</td>\n",
       "      <td>2014-12-31</td>\n",
       "      <td>2015-06-01</td>\n",
       "      <td>Standard Class</td>\n",
       "      <td>TD-20995</td>\n",
       "      <td>Tamara Dahlen</td>\n",
       "      <td>Consumer</td>\n",
       "      <td>Juárez</td>\n",
       "      <td>Chihuahua</td>\n",
       "      <td>Mexico</td>\n",
       "      <td>NaN</td>\n",
       "      <td>LATAM</td>\n",
       "      <td>North</td>\n",
       "      <td>OFF-LA-10000413</td>\n",
       "      <td>Office Supplies</td>\n",
       "      <td>Labels</td>\n",
       "      <td>Hon Legal Exhibit Labels, Alphabetical</td>\n",
       "      <td>7.120</td>\n",
       "      <td>1</td>\n",
       "      <td>0.0</td>\n",
       "      <td>0.5600</td>\n",
       "      <td>0.20</td>\n",
       "      <td>Medium</td>\n",
       "      <td>Monday</td>\n",
       "      <td>December</td>\n",
       "      <td>June</td>\n",
       "      <td>2014</td>\n",
       "      <td>2015</td>\n",
       "      <td>152 days</td>\n",
       "      <td>152</td>\n",
       "      <td>6.5600</td>\n",
       "      <td>6.5600</td>\n",
       "    </tr>\n",
       "    <tr>\n",
       "      <th>51289</th>\n",
       "      <td>36388</td>\n",
       "      <td>CA-2014-156720</td>\n",
       "      <td>2014-12-31</td>\n",
       "      <td>2015-04-01</td>\n",
       "      <td>Standard Class</td>\n",
       "      <td>JM-15580</td>\n",
       "      <td>Jill Matthias</td>\n",
       "      <td>Consumer</td>\n",
       "      <td>Loveland</td>\n",
       "      <td>Colorado</td>\n",
       "      <td>United States</td>\n",
       "      <td>80538.0</td>\n",
       "      <td>US</td>\n",
       "      <td>West</td>\n",
       "      <td>OFF-FA-10003472</td>\n",
       "      <td>Office Supplies</td>\n",
       "      <td>Fasteners</td>\n",
       "      <td>Bagged Rubber Bands</td>\n",
       "      <td>3.024</td>\n",
       "      <td>3</td>\n",
       "      <td>0.2</td>\n",
       "      <td>-0.6048</td>\n",
       "      <td>0.17</td>\n",
       "      <td>Medium</td>\n",
       "      <td>Wednesday</td>\n",
       "      <td>December</td>\n",
       "      <td>April</td>\n",
       "      <td>2014</td>\n",
       "      <td>2015</td>\n",
       "      <td>91 days</td>\n",
       "      <td>91</td>\n",
       "      <td>3.6288</td>\n",
       "      <td>1.2096</td>\n",
       "    </tr>\n",
       "  </tbody>\n",
       "</table>\n",
       "<p>51290 rows × 33 columns</p>\n",
       "</div>"
      ],
      "text/plain": [
       "       Row ID         Order ID Order Date  Ship Date       Ship Mode  \\\n",
       "0       42433     AG-2011-2040 2011-01-01 2011-06-01  Standard Class   \n",
       "1       22253    IN-2011-47883 2011-01-01 2011-08-01  Standard Class   \n",
       "2       48883     HU-2011-1220 2011-01-01 2011-05-01    Second Class   \n",
       "3       11731  IT-2011-3647632 2011-01-01 2011-05-01    Second Class   \n",
       "4       22255    IN-2011-47883 2011-01-01 2011-08-01  Standard Class   \n",
       "...       ...              ...        ...        ...             ...   \n",
       "51285   32593   CA-2014-115427 2014-12-31 2015-04-01  Standard Class   \n",
       "51286   47594     MO-2014-2560 2014-12-31 2015-05-01  Standard Class   \n",
       "51287    8857   MX-2014-110527 2014-12-31 2015-02-01    Second Class   \n",
       "51288    6852   MX-2014-114783 2014-12-31 2015-06-01  Standard Class   \n",
       "51289   36388   CA-2014-156720 2014-12-31 2015-04-01  Standard Class   \n",
       "\n",
       "      Customer ID     Customer Name      Segment         City  \\\n",
       "0        TB-11280   Toby Braunhardt     Consumer  Constantine   \n",
       "1        JH-15985       Joseph Holt     Consumer  Wagga Wagga   \n",
       "2          AT-735     Annie Thurman     Consumer     Budapest   \n",
       "3        EM-14140      Eugene Moren  Home Office    Stockholm   \n",
       "4        JH-15985       Joseph Holt     Consumer  Wagga Wagga   \n",
       "...           ...               ...          ...          ...   \n",
       "51285    EB-13975        Erica Bern    Corporate    Fairfield   \n",
       "51286     LP-7095         Liz Preis     Consumer       Agadir   \n",
       "51287    CM-12190  Charlotte Melton     Consumer      Managua   \n",
       "51288    TD-20995     Tamara Dahlen     Consumer       Juárez   \n",
       "51289    JM-15580     Jill Matthias     Consumer     Loveland   \n",
       "\n",
       "                  State        Country  Postal Code  Market   Region  \\\n",
       "0           Constantine        Algeria          NaN  Africa   Africa   \n",
       "1       New South Wales      Australia          NaN    APAC  Oceania   \n",
       "2              Budapest        Hungary          NaN    EMEA     EMEA   \n",
       "3             Stockholm         Sweden          NaN      EU    North   \n",
       "4       New South Wales      Australia          NaN    APAC  Oceania   \n",
       "...                 ...            ...          ...     ...      ...   \n",
       "51285        California  United States      94533.0      US     West   \n",
       "51286  Souss-Massa-Draâ        Morocco          NaN  Africa   Africa   \n",
       "51287           Managua      Nicaragua          NaN   LATAM  Central   \n",
       "51288         Chihuahua         Mexico          NaN   LATAM    North   \n",
       "51289          Colorado  United States      80538.0      US     West   \n",
       "\n",
       "             Product ID         Category Sub-Category  \\\n",
       "0      OFF-TEN-10000025  Office Supplies      Storage   \n",
       "1       OFF-SU-10000618  Office Supplies     Supplies   \n",
       "2      OFF-TEN-10001585  Office Supplies      Storage   \n",
       "3       OFF-PA-10001492  Office Supplies        Paper   \n",
       "4       FUR-FU-10003447        Furniture  Furnishings   \n",
       "...                 ...              ...          ...   \n",
       "51285   OFF-BI-10002103  Office Supplies      Binders   \n",
       "51286  OFF-WIL-10001069  Office Supplies      Binders   \n",
       "51287   OFF-LA-10004182  Office Supplies       Labels   \n",
       "51288   OFF-LA-10000413  Office Supplies       Labels   \n",
       "51289   OFF-FA-10003472  Office Supplies    Fasteners   \n",
       "\n",
       "                                          Product Name    Sales  Quantity  \\\n",
       "0                                  Tenex Lockers, Blue  408.300         2   \n",
       "1                             Acme Trimmer, High Speed  120.366         3   \n",
       "2                              Tenex Box, Single Width   66.120         4   \n",
       "3                          Enermax Note Cards, Premium   44.865         3   \n",
       "4                           Eldon Light Bulb, Duo Pack  113.670         5   \n",
       "...                                                ...      ...       ...   \n",
       "51285  Cardinal Slant-D Ring Binder, Heavy Gauge Vinyl   13.904         2   \n",
       "51286          Wilson Jones Hole Reinforcements, Clear    3.990         1   \n",
       "51287           Hon Color Coded Labels, 5000 Label Set   26.400         3   \n",
       "51288           Hon Legal Exhibit Labels, Alphabetical    7.120         1   \n",
       "51289                              Bagged Rubber Bands    3.024         3   \n",
       "\n",
       "       Discount    Profit  Shipping Cost Order Priority Ship Weekday  \\\n",
       "0           0.0  106.1400          35.46         Medium    Wednesday   \n",
       "1           0.1   36.0360           9.72         Medium       Monday   \n",
       "2           0.0   29.6400           8.17           High       Sunday   \n",
       "3           0.5  -26.0550           4.82           High       Sunday   \n",
       "4           0.1   37.7700           4.70         Medium       Monday   \n",
       "...         ...       ...            ...            ...          ...   \n",
       "51285       0.2    4.5188           0.89         Medium    Wednesday   \n",
       "51286       0.0    0.4200           0.49         Medium       Friday   \n",
       "51287       0.0   12.3600           0.35         Medium       Sunday   \n",
       "51288       0.0    0.5600           0.20         Medium       Monday   \n",
       "51289       0.2   -0.6048           0.17         Medium    Wednesday   \n",
       "\n",
       "      Order Date_M Ship Date_M  Order Date_Y  Ship Date_Y Lead Time  \\\n",
       "0          January        June          2011         2011  151 days   \n",
       "1          January      August          2011         2011  212 days   \n",
       "2          January         May          2011         2011  120 days   \n",
       "3          January         May          2011         2011  120 days   \n",
       "4          January      August          2011         2011  212 days   \n",
       "...            ...         ...           ...          ...       ...   \n",
       "51285     December       April          2014         2015   91 days   \n",
       "51286     December         May          2014         2015  121 days   \n",
       "51287     December    February          2014         2015   32 days   \n",
       "51288     December        June          2014         2015  152 days   \n",
       "51289     December       April          2014         2015   91 days   \n",
       "\n",
       "       Lead Time_Int      Cost  Unit Cost  \n",
       "0                151  302.1600   151.0800  \n",
       "1                212   84.3300    28.1100  \n",
       "2                120   36.4800     9.1200  \n",
       "3                120   70.9200    23.6400  \n",
       "4                212   75.9000    15.1800  \n",
       "...              ...       ...        ...  \n",
       "51285             91    9.3852     4.6926  \n",
       "51286            121    3.5700     3.5700  \n",
       "51287             32   14.0400     4.6800  \n",
       "51288            152    6.5600     6.5600  \n",
       "51289             91    3.6288     1.2096  \n",
       "\n",
       "[51290 rows x 33 columns]"
      ]
     },
     "execution_count": 41,
     "metadata": {},
     "output_type": "execute_result"
    },
    {
     "data": {
      "image/png": "[encoded data removed]",
      "text/plain": [
       "<Figure size 432x288 with 1 Axes>"
      ]
     },
     "metadata": {},
     "output_type": "display_data"
    }
   ],
   "source": [
    "sns.lineplot(x=data['Order Date_M'], y=data['Lead Time_Int'])\n",
    "data"
   ]
  },
  {
   "cell_type": "code",
   "execution_count": null,
   "metadata": {},
   "outputs": [],
   "source": []
  },
  {
   "cell_type": "markdown",
   "metadata": {},
   "source": [
    "# -----------------------------------------------------------------------------------------------"
   ]
  },
  {
   "cell_type": "markdown",
   "metadata": {},
   "source": [
    "### Analysis on individual columns except **Postal Code** \n",
    " - Order Date (order date in month and in years)"
   ]
  },
  {
   "cell_type": "code",
   "execution_count": 17,
   "metadata": {},
   "outputs": [],
   "source": [
    "analyse_order_date = data[['Order Date', 'Order Date_M', 'Order Date_Y']]"
   ]
  },
  {
   "cell_type": "code",
   "execution_count": 18,
   "metadata": {},
   "outputs": [
    {
     "data": {
      "text/html": [
       "<div>\n",
       "<style scoped>\n",
       "    .dataframe tbody tr th:only-of-type {\n",
       "        vertical-align: middle;\n",
       "    }\n",
       "\n",
       "    .dataframe tbody tr th {\n",
       "        vertical-align: top;\n",
       "    }\n",
       "\n",
       "    .dataframe thead th {\n",
       "        text-align: right;\n",
       "    }\n",
       "</style>\n",
       "<table border=\"1\" class=\"dataframe\">\n",
       "  <thead>\n",
       "    <tr style=\"text-align: right;\">\n",
       "      <th></th>\n",
       "      <th>Order Date</th>\n",
       "      <th>Order Date_M</th>\n",
       "      <th>Order Date_Y</th>\n",
       "    </tr>\n",
       "  </thead>\n",
       "  <tbody>\n",
       "    <tr>\n",
       "      <th>count</th>\n",
       "      <td>51290</td>\n",
       "      <td>51290</td>\n",
       "      <td>51290.000000</td>\n",
       "    </tr>\n",
       "    <tr>\n",
       "      <th>unique</th>\n",
       "      <td>1430</td>\n",
       "      <td>12</td>\n",
       "      <td>NaN</td>\n",
       "    </tr>\n",
       "    <tr>\n",
       "      <th>top</th>\n",
       "      <td>2014-06-18 00:00:00</td>\n",
       "      <td>November</td>\n",
       "      <td>NaN</td>\n",
       "    </tr>\n",
       "    <tr>\n",
       "      <th>freq</th>\n",
       "      <td>135</td>\n",
       "      <td>5660</td>\n",
       "      <td>NaN</td>\n",
       "    </tr>\n",
       "    <tr>\n",
       "      <th>first</th>\n",
       "      <td>2011-01-01 00:00:00</td>\n",
       "      <td>NaN</td>\n",
       "      <td>NaN</td>\n",
       "    </tr>\n",
       "    <tr>\n",
       "      <th>last</th>\n",
       "      <td>2014-12-31 00:00:00</td>\n",
       "      <td>NaN</td>\n",
       "      <td>NaN</td>\n",
       "    </tr>\n",
       "    <tr>\n",
       "      <th>mean</th>\n",
       "      <td>NaN</td>\n",
       "      <td>NaN</td>\n",
       "      <td>2012.777208</td>\n",
       "    </tr>\n",
       "    <tr>\n",
       "      <th>std</th>\n",
       "      <td>NaN</td>\n",
       "      <td>NaN</td>\n",
       "      <td>1.098931</td>\n",
       "    </tr>\n",
       "    <tr>\n",
       "      <th>min</th>\n",
       "      <td>NaN</td>\n",
       "      <td>NaN</td>\n",
       "      <td>2011.000000</td>\n",
       "    </tr>\n",
       "    <tr>\n",
       "      <th>25%</th>\n",
       "      <td>NaN</td>\n",
       "      <td>NaN</td>\n",
       "      <td>2012.000000</td>\n",
       "    </tr>\n",
       "    <tr>\n",
       "      <th>50%</th>\n",
       "      <td>NaN</td>\n",
       "      <td>NaN</td>\n",
       "      <td>2013.000000</td>\n",
       "    </tr>\n",
       "    <tr>\n",
       "      <th>75%</th>\n",
       "      <td>NaN</td>\n",
       "      <td>NaN</td>\n",
       "      <td>2014.000000</td>\n",
       "    </tr>\n",
       "    <tr>\n",
       "      <th>max</th>\n",
       "      <td>NaN</td>\n",
       "      <td>NaN</td>\n",
       "      <td>2014.000000</td>\n",
       "    </tr>\n",
       "  </tbody>\n",
       "</table>\n",
       "</div>"
      ],
      "text/plain": [
       "                 Order Date Order Date_M  Order Date_Y\n",
       "count                 51290        51290  51290.000000\n",
       "unique                 1430           12           NaN\n",
       "top     2014-06-18 00:00:00     November           NaN\n",
       "freq                    135         5660           NaN\n",
       "first   2011-01-01 00:00:00          NaN           NaN\n",
       "last    2014-12-31 00:00:00          NaN           NaN\n",
       "mean                    NaN          NaN   2012.777208\n",
       "std                     NaN          NaN      1.098931\n",
       "min                     NaN          NaN   2011.000000\n",
       "25%                     NaN          NaN   2012.000000\n",
       "50%                     NaN          NaN   2013.000000\n",
       "75%                     NaN          NaN   2014.000000\n",
       "max                     NaN          NaN   2014.000000"
      ]
     },
     "execution_count": 18,
     "metadata": {},
     "output_type": "execute_result"
    }
   ],
   "source": [
    "analyse_order_date.describe(include = 'all')"
   ]
  },
  {
   "cell_type": "markdown",
   "metadata": {},
   "source": [
    "From the descriptive table:\n",
    "- it can be observed that on every **November**, the company records more transactions. This could be \n",
    "as a result of people preparing for their christmas celebration. It is quiet surprising why this didn't \n",
    "occur in December. \n",
    "- \n"
   ]
  },
  {
   "cell_type": "code",
   "execution_count": null,
   "metadata": {},
   "outputs": [],
   "source": []
  },
  {
   "cell_type": "code",
   "execution_count": 19,
   "metadata": {},
   "outputs": [
    {
     "data": {
      "text/html": [
       "<div>\n",
       "<style scoped>\n",
       "    .dataframe tbody tr th:only-of-type {\n",
       "        vertical-align: middle;\n",
       "    }\n",
       "\n",
       "    .dataframe tbody tr th {\n",
       "        vertical-align: top;\n",
       "    }\n",
       "\n",
       "    .dataframe thead th {\n",
       "        text-align: right;\n",
       "    }\n",
       "</style>\n",
       "<table border=\"1\" class=\"dataframe\">\n",
       "  <thead>\n",
       "    <tr style=\"text-align: right;\">\n",
       "      <th></th>\n",
       "      <th>Order Date_M</th>\n",
       "    </tr>\n",
       "    <tr>\n",
       "      <th>Order Date_Y</th>\n",
       "      <th></th>\n",
       "    </tr>\n",
       "  </thead>\n",
       "  <tbody>\n",
       "    <tr>\n",
       "      <th>2011</th>\n",
       "      <td>8998</td>\n",
       "    </tr>\n",
       "    <tr>\n",
       "      <th>2012</th>\n",
       "      <td>10962</td>\n",
       "    </tr>\n",
       "    <tr>\n",
       "      <th>2013</th>\n",
       "      <td>13799</td>\n",
       "    </tr>\n",
       "    <tr>\n",
       "      <th>2014</th>\n",
       "      <td>17531</td>\n",
       "    </tr>\n",
       "  </tbody>\n",
       "</table>\n",
       "</div>"
      ],
      "text/plain": [
       "              Order Date_M\n",
       "Order Date_Y              \n",
       "2011                  8998\n",
       "2012                 10962\n",
       "2013                 13799\n",
       "2014                 17531"
      ]
     },
     "execution_count": 19,
     "metadata": {},
     "output_type": "execute_result"
    }
   ],
   "source": [
    "reg_year = data[['Order Date_M', 'Order Date_Y']].groupby('Order Date_Y').count()#.sort_values('Order Date_M', ascending=False)\n",
    "reg_year      # This shows us the number of records in each year. "
   ]
  },
  {
   "cell_type": "markdown",
   "metadata": {},
   "source": [
    "**A ccording to the above table, we can see that the company's number of transactions is increasing year\n",
    "by year**"
   ]
  },
  {
   "cell_type": "code",
   "execution_count": 20,
   "metadata": {},
   "outputs": [
    {
     "data": {
      "text/html": [
       "<div>\n",
       "<style scoped>\n",
       "    .dataframe tbody tr th:only-of-type {\n",
       "        vertical-align: middle;\n",
       "    }\n",
       "\n",
       "    .dataframe tbody tr th {\n",
       "        vertical-align: top;\n",
       "    }\n",
       "\n",
       "    .dataframe thead th {\n",
       "        text-align: right;\n",
       "    }\n",
       "</style>\n",
       "<table border=\"1\" class=\"dataframe\">\n",
       "  <thead>\n",
       "    <tr style=\"text-align: right;\">\n",
       "      <th></th>\n",
       "      <th>Order Date_Y</th>\n",
       "    </tr>\n",
       "    <tr>\n",
       "      <th>Order Date_M</th>\n",
       "      <th></th>\n",
       "    </tr>\n",
       "  </thead>\n",
       "  <tbody>\n",
       "    <tr>\n",
       "      <th>November</th>\n",
       "      <td>5660</td>\n",
       "    </tr>\n",
       "    <tr>\n",
       "      <th>December</th>\n",
       "      <td>5534</td>\n",
       "    </tr>\n",
       "    <tr>\n",
       "      <th>September</th>\n",
       "      <td>5237</td>\n",
       "    </tr>\n",
       "    <tr>\n",
       "      <th>June</th>\n",
       "      <td>4892</td>\n",
       "    </tr>\n",
       "    <tr>\n",
       "      <th>August</th>\n",
       "      <td>4715</td>\n",
       "    </tr>\n",
       "    <tr>\n",
       "      <th>October</th>\n",
       "      <td>4467</td>\n",
       "    </tr>\n",
       "    <tr>\n",
       "      <th>May</th>\n",
       "      <td>3938</td>\n",
       "    </tr>\n",
       "    <tr>\n",
       "      <th>March</th>\n",
       "      <td>3728</td>\n",
       "    </tr>\n",
       "    <tr>\n",
       "      <th>July</th>\n",
       "      <td>3571</td>\n",
       "    </tr>\n",
       "    <tr>\n",
       "      <th>April</th>\n",
       "      <td>3499</td>\n",
       "    </tr>\n",
       "    <tr>\n",
       "      <th>January</th>\n",
       "      <td>3122</td>\n",
       "    </tr>\n",
       "    <tr>\n",
       "      <th>February</th>\n",
       "      <td>2927</td>\n",
       "    </tr>\n",
       "  </tbody>\n",
       "</table>\n",
       "</div>"
      ],
      "text/plain": [
       "              Order Date_Y\n",
       "Order Date_M              \n",
       "November              5660\n",
       "December              5534\n",
       "September             5237\n",
       "June                  4892\n",
       "August                4715\n",
       "October               4467\n",
       "May                   3938\n",
       "March                 3728\n",
       "July                  3571\n",
       "April                 3499\n",
       "January               3122\n",
       "February              2927"
      ]
     },
     "execution_count": 20,
     "metadata": {},
     "output_type": "execute_result"
    }
   ],
   "source": [
    "reg_month = data[['Order Date_M', 'Order Date_Y']].groupby(\n",
    "    'Order Date_M').count().sort_values('Order Date_Y', ascending=False)\n",
    "reg_month      # This shows us the number of records in each Month, from 2011 - 2014. "
   ]
  },
  {
   "cell_type": "code",
   "execution_count": null,
   "metadata": {},
   "outputs": [],
   "source": []
  },
  {
   "cell_type": "markdown",
   "metadata": {},
   "source": [
    "### Analysis on individual columns except **Postal Code** \n",
    " - ## (a) Customer Name and ID"
   ]
  },
  {
   "cell_type": "code",
   "execution_count": 21,
   "metadata": {},
   "outputs": [
    {
     "data": {
      "text/html": [
       "<div>\n",
       "<style scoped>\n",
       "    .dataframe tbody tr th:only-of-type {\n",
       "        vertical-align: middle;\n",
       "    }\n",
       "\n",
       "    .dataframe tbody tr th {\n",
       "        vertical-align: top;\n",
       "    }\n",
       "\n",
       "    .dataframe thead th {\n",
       "        text-align: right;\n",
       "    }\n",
       "</style>\n",
       "<table border=\"1\" class=\"dataframe\">\n",
       "  <thead>\n",
       "    <tr style=\"text-align: right;\">\n",
       "      <th></th>\n",
       "      <th>Customer ID</th>\n",
       "      <th>Customer Name</th>\n",
       "    </tr>\n",
       "  </thead>\n",
       "  <tbody>\n",
       "    <tr>\n",
       "      <th>0</th>\n",
       "      <td>TB-11280</td>\n",
       "      <td>Toby Braunhardt</td>\n",
       "    </tr>\n",
       "    <tr>\n",
       "      <th>1</th>\n",
       "      <td>JH-15985</td>\n",
       "      <td>Joseph Holt</td>\n",
       "    </tr>\n",
       "    <tr>\n",
       "      <th>2</th>\n",
       "      <td>AT-735</td>\n",
       "      <td>Annie Thurman</td>\n",
       "    </tr>\n",
       "    <tr>\n",
       "      <th>3</th>\n",
       "      <td>EM-14140</td>\n",
       "      <td>Eugene Moren</td>\n",
       "    </tr>\n",
       "    <tr>\n",
       "      <th>4</th>\n",
       "      <td>JH-15985</td>\n",
       "      <td>Joseph Holt</td>\n",
       "    </tr>\n",
       "    <tr>\n",
       "      <th>...</th>\n",
       "      <td>...</td>\n",
       "      <td>...</td>\n",
       "    </tr>\n",
       "    <tr>\n",
       "      <th>51285</th>\n",
       "      <td>EB-13975</td>\n",
       "      <td>Erica Bern</td>\n",
       "    </tr>\n",
       "    <tr>\n",
       "      <th>51286</th>\n",
       "      <td>LP-7095</td>\n",
       "      <td>Liz Preis</td>\n",
       "    </tr>\n",
       "    <tr>\n",
       "      <th>51287</th>\n",
       "      <td>CM-12190</td>\n",
       "      <td>Charlotte Melton</td>\n",
       "    </tr>\n",
       "    <tr>\n",
       "      <th>51288</th>\n",
       "      <td>TD-20995</td>\n",
       "      <td>Tamara Dahlen</td>\n",
       "    </tr>\n",
       "    <tr>\n",
       "      <th>51289</th>\n",
       "      <td>JM-15580</td>\n",
       "      <td>Jill Matthias</td>\n",
       "    </tr>\n",
       "  </tbody>\n",
       "</table>\n",
       "<p>51290 rows × 2 columns</p>\n",
       "</div>"
      ],
      "text/plain": [
       "      Customer ID     Customer Name\n",
       "0        TB-11280   Toby Braunhardt\n",
       "1        JH-15985       Joseph Holt\n",
       "2          AT-735     Annie Thurman\n",
       "3        EM-14140      Eugene Moren\n",
       "4        JH-15985       Joseph Holt\n",
       "...           ...               ...\n",
       "51285    EB-13975        Erica Bern\n",
       "51286     LP-7095         Liz Preis\n",
       "51287    CM-12190  Charlotte Melton\n",
       "51288    TD-20995     Tamara Dahlen\n",
       "51289    JM-15580     Jill Matthias\n",
       "\n",
       "[51290 rows x 2 columns]"
      ]
     },
     "execution_count": 21,
     "metadata": {},
     "output_type": "execute_result"
    }
   ],
   "source": [
    "data[['Customer ID', 'Customer Name']]"
   ]
  },
  {
   "cell_type": "code",
   "execution_count": 22,
   "metadata": {},
   "outputs": [
    {
     "data": {
      "text/plain": [
       "Customer Name    795\n",
       "dtype: int64"
      ]
     },
     "execution_count": 22,
     "metadata": {},
     "output_type": "execute_result"
    }
   ],
   "source": [
    "data[['Customer Name']].nunique() # Identifying the number of customers by name"
   ]
  },
  {
   "cell_type": "code",
   "execution_count": 23,
   "metadata": {},
   "outputs": [
    {
     "data": {
      "text/plain": [
       "Customer ID    1590\n",
       "dtype: int64"
      ]
     },
     "execution_count": 23,
     "metadata": {},
     "output_type": "execute_result"
    }
   ],
   "source": [
    "data[['Customer ID']].nunique() # Identifying the number of customers by ID. This gives actual \n",
    "                                # number of customers"
   ]
  },
  {
   "cell_type": "markdown",
   "metadata": {},
   "source": [
    "- **There are 1590 unique customers in our system.**\n",
    "- **However, There are 795 unique customer names in our**\n",
    "\n",
    ",,,,,,,,,,,,,,,,,,,,,,,,,,,,,,,,,,,,,,,,,,,,,,,,,,,,,,,,,"
   ]
  },
  {
   "cell_type": "markdown",
   "metadata": {},
   "source": [
    "#### i. Giving recommendation on identifying our top customers (by names) for christmas gifts\n",
    "*This will identify top customers with similar names*"
   ]
  },
  {
   "cell_type": "code",
   "execution_count": 24,
   "metadata": {},
   "outputs": [],
   "source": [
    "#This function provides a quick access to a single summary statistic of a column variable\n",
    "# the column type to be specified could be: object or np.number\n",
    "# Possible values of stat_name for val = np.number are: 'count', 'mean', 'std', 'min',\n",
    "#'25%', '50%', '75%', 'max', unique, top, freq\n",
    "\n",
    "def individual_summary_col (obj, stat_name, col):\n",
    "    get_index = data.describe(include = obj).index\n",
    "    my_id = []\n",
    "    for idx in get_index:\n",
    "        my_id.append(idx)\n",
    "    \n",
    "    ii = my_id.index(stat_name) \n",
    "           \n",
    "    return  data.describe(include = obj).loc[[stat_name],[col]]"
   ]
  },
  {
   "cell_type": "code",
   "execution_count": 25,
   "metadata": {},
   "outputs": [
    {
     "data": {
      "text/html": [
       "<div>\n",
       "<style scoped>\n",
       "    .dataframe tbody tr th:only-of-type {\n",
       "        vertical-align: middle;\n",
       "    }\n",
       "\n",
       "    .dataframe tbody tr th {\n",
       "        vertical-align: top;\n",
       "    }\n",
       "\n",
       "    .dataframe thead th {\n",
       "        text-align: right;\n",
       "    }\n",
       "</style>\n",
       "<table border=\"1\" class=\"dataframe\">\n",
       "  <thead>\n",
       "    <tr style=\"text-align: right;\">\n",
       "      <th></th>\n",
       "      <th>Customer Name</th>\n",
       "    </tr>\n",
       "  </thead>\n",
       "  <tbody>\n",
       "    <tr>\n",
       "      <th>top</th>\n",
       "      <td>Muhammed Yedwab</td>\n",
       "    </tr>\n",
       "  </tbody>\n",
       "</table>\n",
       "</div>"
      ],
      "text/plain": [
       "       Customer Name\n",
       "top  Muhammed Yedwab"
      ]
     },
     "execution_count": 25,
     "metadata": {},
     "output_type": "execute_result"
    }
   ],
   "source": [
    "individual_summary_col (object, 'top', 'Customer Name') # A function taking 3 arguments \n",
    "                                                        # Can be used to identify top \n",
    "                                                        # columns e.g. customers, top products \n",
    "                                                        # in terms of their numbers, frequently used \n",
    "                                                        # shiping mode, highest order priority used\n",
    "                                                        # highest product sold, etc.\n",
    "                                                        # THE function can also be used to determine\n",
    "                                                        # max, min, mean, std of sales, profits, \n",
    "                                                        # quantity, unit price, quantity, etc"
   ]
  },
  {
   "cell_type": "code",
   "execution_count": 26,
   "metadata": {},
   "outputs": [],
   "source": [
    "new_data = data.copy()\n",
    "new_data.set_index('Country',inplace = True)  # set country as key"
   ]
  },
  {
   "cell_type": "code",
   "execution_count": 27,
   "metadata": {},
   "outputs": [
    {
     "data": {
      "text/html": [
       "<div>\n",
       "<style scoped>\n",
       "    .dataframe tbody tr th:only-of-type {\n",
       "        vertical-align: middle;\n",
       "    }\n",
       "\n",
       "    .dataframe tbody tr th {\n",
       "        vertical-align: top;\n",
       "    }\n",
       "\n",
       "    .dataframe thead th {\n",
       "        text-align: right;\n",
       "    }\n",
       "</style>\n",
       "<table border=\"1\" class=\"dataframe\">\n",
       "  <thead>\n",
       "    <tr style=\"text-align: right;\">\n",
       "      <th></th>\n",
       "      <th>Sales</th>\n",
       "      <th>Profit</th>\n",
       "      <th>Discount</th>\n",
       "    </tr>\n",
       "    <tr>\n",
       "      <th>Country</th>\n",
       "      <th></th>\n",
       "      <th></th>\n",
       "      <th></th>\n",
       "    </tr>\n",
       "  </thead>\n",
       "  <tbody>\n",
       "    <tr>\n",
       "      <th>Germany</th>\n",
       "      <td>597.000500</td>\n",
       "      <td>83.315500</td>\n",
       "      <td>0.07500</td>\n",
       "    </tr>\n",
       "    <tr>\n",
       "      <th>Nicaragua</th>\n",
       "      <td>578.080000</td>\n",
       "      <td>136.425714</td>\n",
       "      <td>0.00000</td>\n",
       "    </tr>\n",
       "    <tr>\n",
       "      <th>Egypt</th>\n",
       "      <td>575.842500</td>\n",
       "      <td>145.072500</td>\n",
       "      <td>0.00000</td>\n",
       "    </tr>\n",
       "    <tr>\n",
       "      <th>Australia</th>\n",
       "      <td>428.933250</td>\n",
       "      <td>-14.631750</td>\n",
       "      <td>0.17500</td>\n",
       "    </tr>\n",
       "    <tr>\n",
       "      <th>Austria</th>\n",
       "      <td>392.190000</td>\n",
       "      <td>151.280000</td>\n",
       "      <td>0.00000</td>\n",
       "    </tr>\n",
       "    <tr>\n",
       "      <th>China</th>\n",
       "      <td>386.192500</td>\n",
       "      <td>52.160000</td>\n",
       "      <td>0.00000</td>\n",
       "    </tr>\n",
       "    <tr>\n",
       "      <th>Philippines</th>\n",
       "      <td>231.331125</td>\n",
       "      <td>-29.623875</td>\n",
       "      <td>0.37500</td>\n",
       "    </tr>\n",
       "    <tr>\n",
       "      <th>United States</th>\n",
       "      <td>197.747429</td>\n",
       "      <td>-17.700529</td>\n",
       "      <td>0.24381</td>\n",
       "    </tr>\n",
       "    <tr>\n",
       "      <th>South Africa</th>\n",
       "      <td>176.115000</td>\n",
       "      <td>45.705000</td>\n",
       "      <td>0.00000</td>\n",
       "    </tr>\n",
       "    <tr>\n",
       "      <th>Cuba</th>\n",
       "      <td>154.950000</td>\n",
       "      <td>61.240000</td>\n",
       "      <td>0.00000</td>\n",
       "    </tr>\n",
       "    <tr>\n",
       "      <th>Turkey</th>\n",
       "      <td>149.814000</td>\n",
       "      <td>-87.901000</td>\n",
       "      <td>0.60000</td>\n",
       "    </tr>\n",
       "    <tr>\n",
       "      <th>Mexico</th>\n",
       "      <td>135.691868</td>\n",
       "      <td>13.371868</td>\n",
       "      <td>0.12020</td>\n",
       "    </tr>\n",
       "    <tr>\n",
       "      <th>France</th>\n",
       "      <td>135.270000</td>\n",
       "      <td>1.215000</td>\n",
       "      <td>0.03750</td>\n",
       "    </tr>\n",
       "    <tr>\n",
       "      <th>Russia</th>\n",
       "      <td>120.900000</td>\n",
       "      <td>31.410000</td>\n",
       "      <td>0.00000</td>\n",
       "    </tr>\n",
       "    <tr>\n",
       "      <th>Ghana</th>\n",
       "      <td>63.885000</td>\n",
       "      <td>7.965000</td>\n",
       "      <td>0.00000</td>\n",
       "    </tr>\n",
       "    <tr>\n",
       "      <th>Sweden</th>\n",
       "      <td>61.650000</td>\n",
       "      <td>-37.665000</td>\n",
       "      <td>0.50000</td>\n",
       "    </tr>\n",
       "    <tr>\n",
       "      <th>Nigeria</th>\n",
       "      <td>50.251500</td>\n",
       "      <td>-75.868500</td>\n",
       "      <td>0.70000</td>\n",
       "    </tr>\n",
       "    <tr>\n",
       "      <th>Netherlands</th>\n",
       "      <td>48.420000</td>\n",
       "      <td>-22.320000</td>\n",
       "      <td>0.50000</td>\n",
       "    </tr>\n",
       "    <tr>\n",
       "      <th>Tanzania</th>\n",
       "      <td>46.020000</td>\n",
       "      <td>14.055000</td>\n",
       "      <td>0.00000</td>\n",
       "    </tr>\n",
       "    <tr>\n",
       "      <th>Dominican Republic</th>\n",
       "      <td>32.688000</td>\n",
       "      <td>4.528000</td>\n",
       "      <td>0.20000</td>\n",
       "    </tr>\n",
       "    <tr>\n",
       "      <th>Israel</th>\n",
       "      <td>20.310000</td>\n",
       "      <td>5.290000</td>\n",
       "      <td>0.00000</td>\n",
       "    </tr>\n",
       "    <tr>\n",
       "      <th>Sudan</th>\n",
       "      <td>15.540000</td>\n",
       "      <td>5.100000</td>\n",
       "      <td>0.00000</td>\n",
       "    </tr>\n",
       "  </tbody>\n",
       "</table>\n",
       "</div>"
      ],
      "text/plain": [
       "                         Sales      Profit  Discount\n",
       "Country                                             \n",
       "Germany             597.000500   83.315500   0.07500\n",
       "Nicaragua           578.080000  136.425714   0.00000\n",
       "Egypt               575.842500  145.072500   0.00000\n",
       "Australia           428.933250  -14.631750   0.17500\n",
       "Austria             392.190000  151.280000   0.00000\n",
       "China               386.192500   52.160000   0.00000\n",
       "Philippines         231.331125  -29.623875   0.37500\n",
       "United States       197.747429  -17.700529   0.24381\n",
       "South Africa        176.115000   45.705000   0.00000\n",
       "Cuba                154.950000   61.240000   0.00000\n",
       "Turkey              149.814000  -87.901000   0.60000\n",
       "Mexico              135.691868   13.371868   0.12020\n",
       "France              135.270000    1.215000   0.03750\n",
       "Russia              120.900000   31.410000   0.00000\n",
       "Ghana                63.885000    7.965000   0.00000\n",
       "Sweden               61.650000  -37.665000   0.50000\n",
       "Nigeria              50.251500  -75.868500   0.70000\n",
       "Netherlands          48.420000  -22.320000   0.50000\n",
       "Tanzania             46.020000   14.055000   0.00000\n",
       "Dominican Republic   32.688000    4.528000   0.20000\n",
       "Israel               20.310000    5.290000   0.00000\n",
       "Sudan                15.540000    5.100000   0.00000"
      ]
     },
     "execution_count": 27,
     "metadata": {},
     "output_type": "execute_result"
    }
   ],
   "source": [
    "# Generate the average sales to, profits from and discount given to Muhammed Yedwab, our top customer\n",
    "# with highest transaction\n",
    "\n",
    "new_data[new_data['Customer Name'] == 'Muhammed Yedwab'][['Sales', 'Profit', 'Discount']].\\\n",
    "groupby('Country').mean().sort_values('Sales',ascending=False)# Prioritising Muhammed Yedwab based on \n",
    "                                                                # Sales"
   ]
  },
  {
   "cell_type": "code",
   "execution_count": 28,
   "metadata": {},
   "outputs": [],
   "source": [
    "country_Muhammed = new_data[new_data['Customer Name'] == 'Muhammed Yedwab'][['Sales', 'Profit', 'Discount']].\\\n",
    "groupby('Country').mean().sort_values('Profit',ascending=False) # Prioritising Muhammed Yedwab based on \n",
    "                                                           # profit"
   ]
  },
  {
   "cell_type": "markdown",
   "metadata": {},
   "source": [
    "Able to identify top customer by name **Muhammed Yedwab** using the function: \n",
    "- individual_summary_col (object, 'top', 'Customer Name')\n",
    "\n",
    "**Muhammed Yedwab with highest average sales comes from Germany and had an average discount of 7.5%**\n",
    "**Muhammed Yedwab with lowest average sales comes from Sudan and had no discount**\n",
    "\n",
    "**Muhammed Yedwab with highest profit comes from Austria and had no discount**\n",
    "**Muhammed Yedwab with Lowest profit comes from Turkey and had an average discount of 60%**\n",
    "\n",
    "As part of Christmas bonus, discount to Muhammed Yedwabs in Germany can be increase from 7.5% to 20% \n",
    "Besides, Muhammed Yedwabs in Austria should be given more discount since almost no discount is given to\n",
    "them despite the fact that, they provide us with the highest profits. "
   ]
  },
  {
   "cell_type": "markdown",
   "metadata": {},
   "source": [
    ",,,,,,,,,,,,,,,,,,,,,,,,,,,,,,,,,,,,,,,,,,,,,,,,\n",
    "\n",
    "#### ii. Giving recommendation on identifying our top customers (by ID) for christmas gifts\n",
    "*This will identify unique customer with a unique ID. In this analysis, only one customer will receive the gift*\n"
   ]
  },
  {
   "cell_type": "code",
   "execution_count": 29,
   "metadata": {},
   "outputs": [
    {
     "data": {
      "text/html": [
       "<div>\n",
       "<style scoped>\n",
       "    .dataframe tbody tr th:only-of-type {\n",
       "        vertical-align: middle;\n",
       "    }\n",
       "\n",
       "    .dataframe tbody tr th {\n",
       "        vertical-align: top;\n",
       "    }\n",
       "\n",
       "    .dataframe thead th {\n",
       "        text-align: right;\n",
       "    }\n",
       "</style>\n",
       "<table border=\"1\" class=\"dataframe\">\n",
       "  <thead>\n",
       "    <tr style=\"text-align: right;\">\n",
       "      <th></th>\n",
       "      <th>Customer ID</th>\n",
       "    </tr>\n",
       "  </thead>\n",
       "  <tbody>\n",
       "    <tr>\n",
       "      <th>top</th>\n",
       "      <td>PO-18850</td>\n",
       "    </tr>\n",
       "  </tbody>\n",
       "</table>\n",
       "</div>"
      ],
      "text/plain": [
       "    Customer ID\n",
       "top    PO-18850"
      ]
     },
     "execution_count": 29,
     "metadata": {},
     "output_type": "execute_result"
    }
   ],
   "source": [
    "individual_summary_col (object, 'top', 'Customer ID')"
   ]
  },
  {
   "cell_type": "code",
   "execution_count": 30,
   "metadata": {},
   "outputs": [
    {
     "data": {
      "text/html": [
       "<div>\n",
       "<style scoped>\n",
       "    .dataframe tbody tr th:only-of-type {\n",
       "        vertical-align: middle;\n",
       "    }\n",
       "\n",
       "    .dataframe tbody tr th {\n",
       "        vertical-align: top;\n",
       "    }\n",
       "\n",
       "    .dataframe thead th {\n",
       "        text-align: right;\n",
       "    }\n",
       "</style>\n",
       "<table border=\"1\" class=\"dataframe\">\n",
       "  <thead>\n",
       "    <tr style=\"text-align: right;\">\n",
       "      <th></th>\n",
       "      <th>Customer ID</th>\n",
       "      <th>Customer Name</th>\n",
       "      <th>Sales</th>\n",
       "      <th>Profit</th>\n",
       "      <th>Discount</th>\n",
       "    </tr>\n",
       "    <tr>\n",
       "      <th>Country</th>\n",
       "      <th></th>\n",
       "      <th></th>\n",
       "      <th></th>\n",
       "      <th></th>\n",
       "      <th></th>\n",
       "    </tr>\n",
       "  </thead>\n",
       "  <tbody>\n",
       "    <tr>\n",
       "      <th>United States</th>\n",
       "      <td>PO-18850</td>\n",
       "      <td>Patrick O'Brill</td>\n",
       "      <td>4367.896</td>\n",
       "      <td>327.5922</td>\n",
       "      <td>0.2</td>\n",
       "    </tr>\n",
       "    <tr>\n",
       "      <th>Australia</th>\n",
       "      <td>PO-18850</td>\n",
       "      <td>Patrick O'Brill</td>\n",
       "      <td>2544.240</td>\n",
       "      <td>305.2800</td>\n",
       "      <td>0.0</td>\n",
       "    </tr>\n",
       "    <tr>\n",
       "      <th>Germany</th>\n",
       "      <td>PO-18850</td>\n",
       "      <td>Patrick O'Brill</td>\n",
       "      <td>1841.670</td>\n",
       "      <td>368.0700</td>\n",
       "      <td>0.1</td>\n",
       "    </tr>\n",
       "    <tr>\n",
       "      <th>France</th>\n",
       "      <td>PO-18850</td>\n",
       "      <td>Patrick O'Brill</td>\n",
       "      <td>1713.096</td>\n",
       "      <td>551.9760</td>\n",
       "      <td>0.1</td>\n",
       "    </tr>\n",
       "    <tr>\n",
       "      <th>France</th>\n",
       "      <td>PO-18850</td>\n",
       "      <td>Patrick O'Brill</td>\n",
       "      <td>807.597</td>\n",
       "      <td>251.0970</td>\n",
       "      <td>0.1</td>\n",
       "    </tr>\n",
       "    <tr>\n",
       "      <th>...</th>\n",
       "      <td>...</td>\n",
       "      <td>...</td>\n",
       "      <td>...</td>\n",
       "      <td>...</td>\n",
       "      <td>...</td>\n",
       "    </tr>\n",
       "    <tr>\n",
       "      <th>United States</th>\n",
       "      <td>PO-18850</td>\n",
       "      <td>Patrick O'Brill</td>\n",
       "      <td>12.176</td>\n",
       "      <td>4.4138</td>\n",
       "      <td>0.2</td>\n",
       "    </tr>\n",
       "    <tr>\n",
       "      <th>United States</th>\n",
       "      <td>PO-18850</td>\n",
       "      <td>Patrick O'Brill</td>\n",
       "      <td>8.720</td>\n",
       "      <td>2.9430</td>\n",
       "      <td>0.2</td>\n",
       "    </tr>\n",
       "    <tr>\n",
       "      <th>France</th>\n",
       "      <td>PO-18850</td>\n",
       "      <td>Patrick O'Brill</td>\n",
       "      <td>4.800</td>\n",
       "      <td>2.1900</td>\n",
       "      <td>0.0</td>\n",
       "    </tr>\n",
       "    <tr>\n",
       "      <th>United States</th>\n",
       "      <td>PO-18850</td>\n",
       "      <td>Patrick O'Brill</td>\n",
       "      <td>3.000</td>\n",
       "      <td>1.0500</td>\n",
       "      <td>0.2</td>\n",
       "    </tr>\n",
       "    <tr>\n",
       "      <th>United States</th>\n",
       "      <td>PO-18850</td>\n",
       "      <td>Patrick O'Brill</td>\n",
       "      <td>2.784</td>\n",
       "      <td>0.4176</td>\n",
       "      <td>0.2</td>\n",
       "    </tr>\n",
       "  </tbody>\n",
       "</table>\n",
       "<p>97 rows × 5 columns</p>\n",
       "</div>"
      ],
      "text/plain": [
       "              Customer ID    Customer Name     Sales    Profit  Discount\n",
       "Country                                                                 \n",
       "United States    PO-18850  Patrick O'Brill  4367.896  327.5922       0.2\n",
       "Australia        PO-18850  Patrick O'Brill  2544.240  305.2800       0.0\n",
       "Germany          PO-18850  Patrick O'Brill  1841.670  368.0700       0.1\n",
       "France           PO-18850  Patrick O'Brill  1713.096  551.9760       0.1\n",
       "France           PO-18850  Patrick O'Brill   807.597  251.0970       0.1\n",
       "...                   ...              ...       ...       ...       ...\n",
       "United States    PO-18850  Patrick O'Brill    12.176    4.4138       0.2\n",
       "United States    PO-18850  Patrick O'Brill     8.720    2.9430       0.2\n",
       "France           PO-18850  Patrick O'Brill     4.800    2.1900       0.0\n",
       "United States    PO-18850  Patrick O'Brill     3.000    1.0500       0.2\n",
       "United States    PO-18850  Patrick O'Brill     2.784    0.4176       0.2\n",
       "\n",
       "[97 rows x 5 columns]"
      ]
     },
     "execution_count": 30,
     "metadata": {},
     "output_type": "execute_result"
    }
   ],
   "source": [
    "# Generate the average sales to, profits from and discount given to PO-18850, our top customer\n",
    "# with highest transaction\n",
    "\n",
    "new_data[new_data['Customer ID'] == 'PO-18850'][['Customer ID', 'Customer Name', 'Sales', 'Profit', \n",
    "        'Discount']].sort_values('Sales',ascending=False)# Prioritising ID 'PO-18850' based on Sales\n",
    "# This gives the highest purchase in a transaction done by PO-18850 (Patrick O'Brill) "
   ]
  },
  {
   "cell_type": "markdown",
   "metadata": {},
   "source": []
  },
  {
   "cell_type": "code",
   "execution_count": 31,
   "metadata": {},
   "outputs": [
    {
     "data": {
      "text/html": [
       "<div>\n",
       "<style scoped>\n",
       "    .dataframe tbody tr th:only-of-type {\n",
       "        vertical-align: middle;\n",
       "    }\n",
       "\n",
       "    .dataframe tbody tr th {\n",
       "        vertical-align: top;\n",
       "    }\n",
       "\n",
       "    .dataframe thead th {\n",
       "        text-align: right;\n",
       "    }\n",
       "</style>\n",
       "<table border=\"1\" class=\"dataframe\">\n",
       "  <thead>\n",
       "    <tr style=\"text-align: right;\">\n",
       "      <th></th>\n",
       "      <th>Sales</th>\n",
       "      <th>Profit</th>\n",
       "      <th>Discount</th>\n",
       "    </tr>\n",
       "    <tr>\n",
       "      <th>Country</th>\n",
       "      <th></th>\n",
       "      <th></th>\n",
       "      <th></th>\n",
       "    </tr>\n",
       "  </thead>\n",
       "  <tbody>\n",
       "    <tr>\n",
       "      <th>Australia</th>\n",
       "      <td>488.076000</td>\n",
       "      <td>70.506000</td>\n",
       "      <td>0.042857</td>\n",
       "    </tr>\n",
       "    <tr>\n",
       "      <th>Colombia</th>\n",
       "      <td>456.960000</td>\n",
       "      <td>187.280000</td>\n",
       "      <td>0.000000</td>\n",
       "    </tr>\n",
       "    <tr>\n",
       "      <th>Germany</th>\n",
       "      <td>422.663000</td>\n",
       "      <td>87.178000</td>\n",
       "      <td>0.033333</td>\n",
       "    </tr>\n",
       "    <tr>\n",
       "      <th>France</th>\n",
       "      <td>406.903286</td>\n",
       "      <td>119.837571</td>\n",
       "      <td>0.042857</td>\n",
       "    </tr>\n",
       "    <tr>\n",
       "      <th>United States</th>\n",
       "      <td>339.719464</td>\n",
       "      <td>1.748895</td>\n",
       "      <td>0.210000</td>\n",
       "    </tr>\n",
       "    <tr>\n",
       "      <th>Guatemala</th>\n",
       "      <td>328.600000</td>\n",
       "      <td>66.800000</td>\n",
       "      <td>0.000000</td>\n",
       "    </tr>\n",
       "    <tr>\n",
       "      <th>India</th>\n",
       "      <td>274.908000</td>\n",
       "      <td>54.756000</td>\n",
       "      <td>0.000000</td>\n",
       "    </tr>\n",
       "    <tr>\n",
       "      <th>Honduras</th>\n",
       "      <td>226.476000</td>\n",
       "      <td>-130.104000</td>\n",
       "      <td>0.400000</td>\n",
       "    </tr>\n",
       "    <tr>\n",
       "      <th>Mexico</th>\n",
       "      <td>216.733333</td>\n",
       "      <td>63.541333</td>\n",
       "      <td>0.026667</td>\n",
       "    </tr>\n",
       "    <tr>\n",
       "      <th>United Kingdom</th>\n",
       "      <td>187.520000</td>\n",
       "      <td>55.780000</td>\n",
       "      <td>0.000000</td>\n",
       "    </tr>\n",
       "    <tr>\n",
       "      <th>Brazil</th>\n",
       "      <td>115.382667</td>\n",
       "      <td>-42.484000</td>\n",
       "      <td>0.200000</td>\n",
       "    </tr>\n",
       "    <tr>\n",
       "      <th>Italy</th>\n",
       "      <td>103.740000</td>\n",
       "      <td>42.090000</td>\n",
       "      <td>0.000000</td>\n",
       "    </tr>\n",
       "    <tr>\n",
       "      <th>Dominican Republic</th>\n",
       "      <td>75.173333</td>\n",
       "      <td>-25.133333</td>\n",
       "      <td>0.366667</td>\n",
       "    </tr>\n",
       "    <tr>\n",
       "      <th>Spain</th>\n",
       "      <td>73.920000</td>\n",
       "      <td>8.520000</td>\n",
       "      <td>0.000000</td>\n",
       "    </tr>\n",
       "    <tr>\n",
       "      <th>Sweden</th>\n",
       "      <td>64.822500</td>\n",
       "      <td>-39.150000</td>\n",
       "      <td>0.500000</td>\n",
       "    </tr>\n",
       "    <tr>\n",
       "      <th>Switzerland</th>\n",
       "      <td>59.700000</td>\n",
       "      <td>25.050000</td>\n",
       "      <td>0.000000</td>\n",
       "    </tr>\n",
       "    <tr>\n",
       "      <th>South Korea</th>\n",
       "      <td>44.137500</td>\n",
       "      <td>-31.462500</td>\n",
       "      <td>0.500000</td>\n",
       "    </tr>\n",
       "    <tr>\n",
       "      <th>New Zealand</th>\n",
       "      <td>40.674000</td>\n",
       "      <td>-2.151000</td>\n",
       "      <td>0.400000</td>\n",
       "    </tr>\n",
       "  </tbody>\n",
       "</table>\n",
       "</div>"
      ],
      "text/plain": [
       "                         Sales      Profit  Discount\n",
       "Country                                             \n",
       "Australia           488.076000   70.506000  0.042857\n",
       "Colombia            456.960000  187.280000  0.000000\n",
       "Germany             422.663000   87.178000  0.033333\n",
       "France              406.903286  119.837571  0.042857\n",
       "United States       339.719464    1.748895  0.210000\n",
       "Guatemala           328.600000   66.800000  0.000000\n",
       "India               274.908000   54.756000  0.000000\n",
       "Honduras            226.476000 -130.104000  0.400000\n",
       "Mexico              216.733333   63.541333  0.026667\n",
       "United Kingdom      187.520000   55.780000  0.000000\n",
       "Brazil              115.382667  -42.484000  0.200000\n",
       "Italy               103.740000   42.090000  0.000000\n",
       "Dominican Republic   75.173333  -25.133333  0.366667\n",
       "Spain                73.920000    8.520000  0.000000\n",
       "Sweden               64.822500  -39.150000  0.500000\n",
       "Switzerland          59.700000   25.050000  0.000000\n",
       "South Korea          44.137500  -31.462500  0.500000\n",
       "New Zealand          40.674000   -2.151000  0.400000"
      ]
     },
     "execution_count": 31,
     "metadata": {},
     "output_type": "execute_result"
    }
   ],
   "source": [
    "new_data[new_data['Customer ID'] == 'PO-18850'][['Sales', 'Profit', \n",
    "        'Discount']].groupby ('Country').mean().sort_values('Sales',ascending=False)"
   ]
  },
  {
   "cell_type": "markdown",
   "metadata": {},
   "source": [
    "The top customer identified by ID  **PO-18850** is by name **Patrick O'Brill**, \n",
    "- the highest purchase in a transaction done by PO-18850 (Patrick O'Brill) was in the United States and received a discount of **20%** \n",
    "- Patrick is found in **18 countries**. \n",
    "- Patrick in Australia received the highest average sales of **488.076 units**,  giving us an average profit of **USD 70.506** and received a discount of **4.3%**\n",
    "- Patrick in New Zealand received the lowest average sales of **40.674 units**, giving us an average loss of **USD -2.151** and received a discount of **40%** "
   ]
  },
  {
   "cell_type": "code",
   "execution_count": null,
   "metadata": {},
   "outputs": [],
   "source": []
  },
  {
   "cell_type": "code",
   "execution_count": null,
   "metadata": {},
   "outputs": [],
   "source": []
  },
  {
   "cell_type": "markdown",
   "metadata": {},
   "source": [
    ",,,,,,,,,,,,,,,,,,,,,,,,,,,,,,,,,,,,,,,,,,,,,,,,,,,,,,,,,,,,,,,,,,,,,,,,,,,,,,,,,,,,,,,,,,,,,,,\n",
    "#### iii. Top customers in each  Market (Graphical Representation)\n",
    "- Identify market with highest Sales\n",
    "- Identify country with highest Sales \n"
   ]
  },
  {
   "cell_type": "code",
   "execution_count": 32,
   "metadata": {},
   "outputs": [],
   "source": [
    "# From the data table pick transactions with only 'Muhammed Yedwab'.\n",
    "# Group the data by markets and countries. This helps to identify which market and country where \n",
    "#'Muhammed Yedwab' could be identified to give our gift or bonus to, Assuming the choice is based on\n",
    "# customers with similar name\n",
    "\n",
    "mkt_Muhammed = data[data['Customer Name'] == 'Muhammed Yedwab']\n",
    "tb1 = mkt_Muhammed.groupby(['Market', 'Country'], sort=False)[['Sales']].mean().sort_values('Sales',\n",
    "                                                                               ascending = False)\n"
   ]
  },
  {
   "cell_type": "code",
   "execution_count": 33,
   "metadata": {},
   "outputs": [],
   "source": [
    "# Create variables for each market (index) in which Muhammed Yedwab is located\n",
    "\n",
    "mkt_EU = tb1.loc['EU']\n",
    "mkt_EMEA = tb1.loc['EMEA']\n",
    "mkt_APAC = tb1.loc['APAC']\n",
    "mkt_US = tb1.loc['US']\n",
    "mkt_LATAM = tb1.loc['LATAM']\n",
    "mkt_Africa = tb1.loc['Africa']"
   ]
  },
  {
   "cell_type": "code",
   "execution_count": null,
   "metadata": {},
   "outputs": [],
   "source": []
  },
  {
   "cell_type": "code",
   "execution_count": 34,
   "metadata": {},
   "outputs": [],
   "source": [
    "mkt_cntry = pd.concat([mkt_EU, mkt_EMEA, mkt_APAC, mkt_US, mkt_LATAM, mkt_Africa])"
   ]
  },
  {
   "cell_type": "code",
   "execution_count": 35,
   "metadata": {
    "scrolled": true
   },
   "outputs": [
    {
     "data": {
      "text/plain": [
       "<matplotlib.legend.Legend at 0x1f094a737c0>"
      ]
     },
     "execution_count": 35,
     "metadata": {},
     "output_type": "execute_result"
    },
    {
     "data": {
      "image/png": "[encoded data removed]",
      "text/plain": [
       "<Figure size 720x576 with 1 Axes>"
      ]
     },
     "metadata": {
      "needs_background": "light"
     },
     "output_type": "display_data"
    }
   ],
   "source": [
    "plt.figure(figsize = (10,8))\n",
    "\n",
    "plt.barh(mkt_EU.index, mkt_EU['Sales'], label='EU')\n",
    "plt.barh(mkt_EMEA.index, mkt_EMEA['Sales'], label='EMEA')\n",
    "plt.barh(mkt_APAC.index, mkt_APAC['Sales'], label='APAC')\n",
    "plt.barh(mkt_US.index, mkt_US['Sales'], label='US')\n",
    "plt.barh(mkt_LATAM.index, mkt_LATAM['Sales'], label='LATAM')\n",
    "plt.barh(mkt_Africa.index, mkt_Africa['Sales'], label='Africa')\n",
    "plt.title('Average Purchase by customers with name \"Muhammed Yedwab\"')\n",
    "plt.legend()"
   ]
  },
  {
   "cell_type": "markdown",
   "metadata": {},
   "source": [
    "***The single best customer (**Patrick**) to be rewarded is in:\n",
    "  - EU: Germany\n",
    "  - EMEA: Turkey\n",
    "  - APAC: Australia\n",
    "  - US: US\n",
    "  - LATAM: Nicaragua\n",
    "  - Africa: Egypt\n",
    "\n",
    "**NB: Patrick (PO-18850) made no purchase from EMEA and Africa**"
   ]
  },
  {
   "cell_type": "markdown",
   "metadata": {},
   "source": [
    "#### Graphing unique customer ( PO-18850 is by name Patrick O'Brill) in market and country "
   ]
  },
  {
   "cell_type": "code",
   "execution_count": 36,
   "metadata": {},
   "outputs": [],
   "source": [
    "# From the data table pick transactions with only 'Muhammed Yedwab'.\n",
    "# Group the data by markets and countries. This helps to identify which market and country where \n",
    "#'Muhammed Yedwab' could be identified to give our gift or bonus to, Assuming the choice is based on\n",
    "# customers with similar name\n",
    "\n",
    "mkt_Patrick = data[data['Customer ID'] == 'PO-18850']\n",
    "tb2 = mkt_Patrick.groupby(['Market', 'Country'], sort=False)[['Sales']].mean().sort_values('Sales',\n",
    "                                                                               ascending = False)\n"
   ]
  },
  {
   "cell_type": "code",
   "execution_count": 37,
   "metadata": {},
   "outputs": [
    {
     "data": {
      "text/html": [
       "<div>\n",
       "<style scoped>\n",
       "    .dataframe tbody tr th:only-of-type {\n",
       "        vertical-align: middle;\n",
       "    }\n",
       "\n",
       "    .dataframe tbody tr th {\n",
       "        vertical-align: top;\n",
       "    }\n",
       "\n",
       "    .dataframe thead th {\n",
       "        text-align: right;\n",
       "    }\n",
       "</style>\n",
       "<table border=\"1\" class=\"dataframe\">\n",
       "  <thead>\n",
       "    <tr style=\"text-align: right;\">\n",
       "      <th></th>\n",
       "      <th></th>\n",
       "      <th>Sales</th>\n",
       "    </tr>\n",
       "    <tr>\n",
       "      <th>Market</th>\n",
       "      <th>Country</th>\n",
       "      <th></th>\n",
       "    </tr>\n",
       "  </thead>\n",
       "  <tbody>\n",
       "    <tr>\n",
       "      <th>APAC</th>\n",
       "      <th>Australia</th>\n",
       "      <td>488.076000</td>\n",
       "    </tr>\n",
       "    <tr>\n",
       "      <th>LATAM</th>\n",
       "      <th>Colombia</th>\n",
       "      <td>456.960000</td>\n",
       "    </tr>\n",
       "    <tr>\n",
       "      <th rowspan=\"2\" valign=\"top\">EU</th>\n",
       "      <th>Germany</th>\n",
       "      <td>422.663000</td>\n",
       "    </tr>\n",
       "    <tr>\n",
       "      <th>France</th>\n",
       "      <td>406.903286</td>\n",
       "    </tr>\n",
       "    <tr>\n",
       "      <th>US</th>\n",
       "      <th>United States</th>\n",
       "      <td>339.719464</td>\n",
       "    </tr>\n",
       "    <tr>\n",
       "      <th>LATAM</th>\n",
       "      <th>Guatemala</th>\n",
       "      <td>328.600000</td>\n",
       "    </tr>\n",
       "    <tr>\n",
       "      <th>APAC</th>\n",
       "      <th>India</th>\n",
       "      <td>274.908000</td>\n",
       "    </tr>\n",
       "    <tr>\n",
       "      <th rowspan=\"2\" valign=\"top\">LATAM</th>\n",
       "      <th>Honduras</th>\n",
       "      <td>226.476000</td>\n",
       "    </tr>\n",
       "    <tr>\n",
       "      <th>Mexico</th>\n",
       "      <td>216.733333</td>\n",
       "    </tr>\n",
       "    <tr>\n",
       "      <th>EU</th>\n",
       "      <th>United Kingdom</th>\n",
       "      <td>187.520000</td>\n",
       "    </tr>\n",
       "    <tr>\n",
       "      <th>LATAM</th>\n",
       "      <th>Brazil</th>\n",
       "      <td>115.382667</td>\n",
       "    </tr>\n",
       "    <tr>\n",
       "      <th>EU</th>\n",
       "      <th>Italy</th>\n",
       "      <td>103.740000</td>\n",
       "    </tr>\n",
       "    <tr>\n",
       "      <th>LATAM</th>\n",
       "      <th>Dominican Republic</th>\n",
       "      <td>75.173333</td>\n",
       "    </tr>\n",
       "    <tr>\n",
       "      <th rowspan=\"3\" valign=\"top\">EU</th>\n",
       "      <th>Spain</th>\n",
       "      <td>73.920000</td>\n",
       "    </tr>\n",
       "    <tr>\n",
       "      <th>Sweden</th>\n",
       "      <td>64.822500</td>\n",
       "    </tr>\n",
       "    <tr>\n",
       "      <th>Switzerland</th>\n",
       "      <td>59.700000</td>\n",
       "    </tr>\n",
       "    <tr>\n",
       "      <th rowspan=\"2\" valign=\"top\">APAC</th>\n",
       "      <th>South Korea</th>\n",
       "      <td>44.137500</td>\n",
       "    </tr>\n",
       "    <tr>\n",
       "      <th>New Zealand</th>\n",
       "      <td>40.674000</td>\n",
       "    </tr>\n",
       "  </tbody>\n",
       "</table>\n",
       "</div>"
      ],
      "text/plain": [
       "                                Sales\n",
       "Market Country                       \n",
       "APAC   Australia           488.076000\n",
       "LATAM  Colombia            456.960000\n",
       "EU     Germany             422.663000\n",
       "       France              406.903286\n",
       "US     United States       339.719464\n",
       "LATAM  Guatemala           328.600000\n",
       "APAC   India               274.908000\n",
       "LATAM  Honduras            226.476000\n",
       "       Mexico              216.733333\n",
       "EU     United Kingdom      187.520000\n",
       "LATAM  Brazil              115.382667\n",
       "EU     Italy               103.740000\n",
       "LATAM  Dominican Republic   75.173333\n",
       "EU     Spain                73.920000\n",
       "       Sweden               64.822500\n",
       "       Switzerland          59.700000\n",
       "APAC   South Korea          44.137500\n",
       "       New Zealand          40.674000"
      ]
     },
     "execution_count": 37,
     "metadata": {},
     "output_type": "execute_result"
    }
   ],
   "source": [
    "tb2\n"
   ]
  },
  {
   "cell_type": "code",
   "execution_count": null,
   "metadata": {},
   "outputs": [],
   "source": []
  },
  {
   "cell_type": "code",
   "execution_count": null,
   "metadata": {},
   "outputs": [],
   "source": []
  },
  {
   "cell_type": "code",
   "execution_count": 38,
   "metadata": {},
   "outputs": [
    {
     "ename": "NameError",
     "evalue": "name 'tips' is not defined",
     "output_type": "error",
     "traceback": [
      "\u001b[1;31m---------------------------------------------------------------------------\u001b[0m",
      "\u001b[1;31mNameError\u001b[0m                                 Traceback (most recent call last)",
      "\u001b[1;32m<ipython-input-38-76592cb3a21e>\u001b[0m in \u001b[0;36m<module>\u001b[1;34m\u001b[0m\n\u001b[0;32m      2\u001b[0m \u001b[0mplt\u001b[0m\u001b[1;33m.\u001b[0m\u001b[0mfigure\u001b[0m\u001b[1;33m(\u001b[0m\u001b[0mfigsize\u001b[0m\u001b[1;33m=\u001b[0m\u001b[1;33m(\u001b[0m\u001b[1;36m14\u001b[0m\u001b[1;33m,\u001b[0m \u001b[1;36m14\u001b[0m\u001b[1;33m)\u001b[0m\u001b[1;33m)\u001b[0m\u001b[1;33m\u001b[0m\u001b[1;33m\u001b[0m\u001b[0m\n\u001b[0;32m      3\u001b[0m \u001b[1;33m\u001b[0m\u001b[0m\n\u001b[1;32m----> 4\u001b[1;33m \u001b[0mtotal\u001b[0m \u001b[1;33m=\u001b[0m \u001b[0mtips\u001b[0m\u001b[1;33m.\u001b[0m\u001b[0mgroupby\u001b[0m\u001b[1;33m(\u001b[0m\u001b[1;34m'day'\u001b[0m\u001b[1;33m)\u001b[0m\u001b[1;33m[\u001b[0m\u001b[1;34m'total_bill'\u001b[0m\u001b[1;33m]\u001b[0m\u001b[1;33m.\u001b[0m\u001b[0msum\u001b[0m\u001b[1;33m(\u001b[0m\u001b[1;33m)\u001b[0m\u001b[1;33m.\u001b[0m\u001b[0mreset_index\u001b[0m\u001b[1;33m(\u001b[0m\u001b[1;33m)\u001b[0m\u001b[1;33m\u001b[0m\u001b[1;33m\u001b[0m\u001b[0m\n\u001b[0m\u001b[0;32m      5\u001b[0m \u001b[1;31m# bar chart 1 -> top bars (group of 'smoker=No')\u001b[0m\u001b[1;33m\u001b[0m\u001b[1;33m\u001b[0m\u001b[1;33m\u001b[0m\u001b[0m\n\u001b[0;32m      6\u001b[0m \u001b[0mbar1\u001b[0m \u001b[1;33m=\u001b[0m \u001b[0msns\u001b[0m\u001b[1;33m.\u001b[0m\u001b[0mbarplot\u001b[0m\u001b[1;33m(\u001b[0m\u001b[0mx\u001b[0m\u001b[1;33m=\u001b[0m\u001b[1;34m\"day\"\u001b[0m\u001b[1;33m,\u001b[0m  \u001b[0my\u001b[0m\u001b[1;33m=\u001b[0m\u001b[1;34m\"total_bill\"\u001b[0m\u001b[1;33m,\u001b[0m \u001b[0mdata\u001b[0m\u001b[1;33m=\u001b[0m\u001b[0mtotal\u001b[0m\u001b[1;33m,\u001b[0m \u001b[0mcolor\u001b[0m\u001b[1;33m=\u001b[0m\u001b[1;34m'darkblue'\u001b[0m\u001b[1;33m)\u001b[0m\u001b[1;33m\u001b[0m\u001b[1;33m\u001b[0m\u001b[0m\n",
      "\u001b[1;31mNameError\u001b[0m: name 'tips' is not defined"
     ]
    },
    {
     "data": {
      "text/plain": [
       "<Figure size 1008x1008 with 0 Axes>"
      ]
     },
     "metadata": {},
     "output_type": "display_data"
    }
   ],
   "source": [
    "sns.set(style=\"darkgrid\")\n",
    "plt.figure(figsize=(14, 14))\n",
    "\n",
    "total = tips.groupby('day')['total_bill'].sum().reset_index() \n",
    "# bar chart 1 -> top bars (group of 'smoker=No')\n",
    "bar1 = sns.barplot(x=\"day\",  y=\"total_bill\", data=total, color='darkblue')\n",
    "\n",
    "# bottom bar ->  take only smoker=Yes values from the data\n",
    "smoker = tips[tips.smoker=='Yes']\n",
    "\n",
    "# bar chart 2 -> bottom bars (group of 'smoker=Yes')\n",
    "bar2 = sns.barplot(x=\"day\", y=\"total_bill\", data=smoker, estimator=sum, ci=None,  color='lightblue')\n",
    "\n",
    "# add legend\n",
    "top_bar = mpatches.Patch(color='darkblue', label='smoker = No')\n",
    "bottom_bar = mpatches.Patch(color='lightblue', label='smoker = Yes')\n",
    "plt.legend(handles=[top_bar, bottom_bar])\n",
    "\n",
    "# show the graph\n",
    "plt.show()"
   ]
  },
  {
   "cell_type": "code",
   "execution_count": null,
   "metadata": {},
   "outputs": [],
   "source": [
    "# Create variables for each market (index) in which PO-18850 is located\n",
    "# EMEA and Africa market has no 'PO-18850'  (Patrick). This can be proved with the code:\n",
    "# data[data['Customer ID'] == 'EMEA'][['Market']]\n",
    "\n",
    "mktt_EU = tb2.loc['EU']\n",
    "#mktt_EMEA = tb2.loc['EMEA']\n",
    "mktt_APAC = tb2.loc['APAC']\n",
    "mktt_US = tb2.loc['US']\n",
    "mktt_LATAM = tb2.loc['LATAM']\n",
    "#mktt_Africa = tb2.loc['Africa']"
   ]
  },
  {
   "cell_type": "code",
   "execution_count": null,
   "metadata": {},
   "outputs": [],
   "source": [
    "plt.figure(figsize = (10,8))\n",
    "\n",
    "plt.barh(mktt_EU.index, mktt_EU['Sales'], label='EU')\n",
    "plt.barh(mktt_APAC.index, mktt_APAC['Sales'], label='APAC')\n",
    "plt.barh(mktt_US.index, mktt_US['Sales'], label='US')\n",
    "plt.barh(mktt_LATAM.index, mktt_LATAM['Sales'], label='LATAM')\n",
    "plt.title(\"Average Purchase by customer with a unique ID by name 'Patrick O'Brill'\")\n",
    "plt.legend()"
   ]
  },
  {
   "cell_type": "markdown",
   "metadata": {},
   "source": [
    "***The single best customer (**Patrick**) to be rewarded is in:\n",
    "  - EU: Germany\n",
    "  - APAC: Australia\n",
    "  - US: US\n",
    "  - LATAM: Colombia\n",
    "\n",
    "**NB: Patrick (PO-18850) made no purchase from EMEA and Africa**"
   ]
  },
  {
   "cell_type": "code",
   "execution_count": null,
   "metadata": {},
   "outputs": [],
   "source": []
  },
  {
   "cell_type": "markdown",
   "metadata": {},
   "source": [
    "### Analysis on individual columns except **Postal Code** \n",
    " - (b) Shiping: **Ship Mode**, Shipping Cost, Ship Date, Ship Date_M, Ship Date_Y, Category, Quantity, Sales, Unit Price, Profit "
   ]
  },
  {
   "cell_type": "code",
   "execution_count": null,
   "metadata": {},
   "outputs": [],
   "source": [
    "# Add Unit Price to 'data'\n",
    "\n",
    "\n",
    "for iddx in data.columns:\n",
    "    if iddx == 'Unit Price':\n",
    "        data = data\n",
    "    else:\n",
    "        data['Unit Price'] = data['Sales']/data['Quantity']"
   ]
  },
  {
   "cell_type": "code",
   "execution_count": null,
   "metadata": {},
   "outputs": [],
   "source": [
    "ship_data = data[['Ship Date', 'Ship Date_M', 'Ship Date_Y','Ship Mode', 'Category','Market', 'Country', 'Shipping Cost', \n",
    "                  'Sales', 'Profit', 'Unit Price', 'Quantity']]\n"
   ]
  },
  {
   "cell_type": "code",
   "execution_count": null,
   "metadata": {},
   "outputs": [],
   "source": [
    "ship_data"
   ]
  },
  {
   "cell_type": "code",
   "execution_count": null,
   "metadata": {},
   "outputs": [],
   "source": [
    "#Taking Shipping Mode\n",
    "\n",
    "individual_summary_col (object, 'top', 'Ship Mode') # A self defined function taking 3 arguments \n",
    "                                                        # Can be used to identify highest element in a\n",
    "                                                        # column. It's being used to identified \n",
    "                                                        # frequently used mode\n"
   ]
  },
  {
   "cell_type": "code",
   "execution_count": null,
   "metadata": {},
   "outputs": [],
   "source": [
    "ship_modes = ship_data[['Ship Mode','Ship Date']].groupby('Ship Mode').count()#.sort_values('Ship Date',\n",
    "                            # ascending = False)"
   ]
  },
  {
   "cell_type": "code",
   "execution_count": null,
   "metadata": {},
   "outputs": [],
   "source": [
    "ship_modes"
   ]
  },
  {
   "cell_type": "code",
   "execution_count": null,
   "metadata": {},
   "outputs": [],
   "source": []
  },
  {
   "cell_type": "code",
   "execution_count": null,
   "metadata": {},
   "outputs": [],
   "source": [
    "plt.bar(ship_modes.index, ship_modes['Ship Date'])\n",
    "plt.xlabel('Shipping Mode')\n",
    "plt.ylabel('Frequency of trip')\n",
    "plt.title('The Highest and Lowest Ship Modes used (2011-2014)')\n",
    "plt.show"
   ]
  },
  {
   "cell_type": "code",
   "execution_count": null,
   "metadata": {},
   "outputs": [],
   "source": []
  },
  {
   "cell_type": "code",
   "execution_count": null,
   "metadata": {},
   "outputs": [],
   "source": []
  },
  {
   "cell_type": "markdown",
   "metadata": {},
   "source": [
    "**Standard Class** was used often from 2011 to 2014 to ship goods to customers. AND \n",
    "**Same Day** was less used\n",
    "\n",
    "Questions: \n",
    "- Which product category were used for both **Standard Class** - Often used, and **Same Day - less used**?\n",
    "- Which markets were these modes used to ship the products\n",
    "- In Which markets were highest average shipping cost incurred using these two modes (**Standard Class** and **Same Day**)?\n",
    "- In Which markets were highest average quantities of products sent to through these modes (**Standard Class** and **Same Day**)?\n",
    "- In Which markets were highest average sales generated using these two modes (**Standard Class** and **Same Day**)?"
   ]
  },
  {
   "cell_type": "code",
   "execution_count": null,
   "metadata": {},
   "outputs": [],
   "source": [
    "ship_data['shipping cost perUnit'] = ship_data['Shipping Cost']/ship_data['Quantity']\n",
    "ship_data.head(3)"
   ]
  },
  {
   "cell_type": "code",
   "execution_count": null,
   "metadata": {
    "scrolled": false
   },
   "outputs": [],
   "source": []
  },
  {
   "cell_type": "code",
   "execution_count": null,
   "metadata": {},
   "outputs": [],
   "source": [
    "# This function helps to assess 'Standard Class' AND 'Same Day' 'Ship Mode' in categorical variables\n",
    "# Such as Market, product category, country, etc.\n",
    "# column_1: categorical variable upon which 'Ship Mode' is being assessed, \n",
    "# column_2: could be discret variable (use .mean) or categorical (use .count()) \n",
    "# column_2 is the value used to measure column 1\n",
    "ship_data_group = ship_data.copy()\n",
    "\n",
    "def ship_mod_cols (column_1, column_2):\n",
    "    if type(ship_data_group[[column_2]].iloc[0,0]) is str:\n",
    "\n",
    "        tb3 = ship_data_group.groupby(['Ship Mode', column_1], sort=False)[[column_2\n",
    "                            ]].count().sort_values(column_2,ascending = False)\n",
    "\n",
    "    else: \n",
    "        tb3 = ship_data_group.groupby(['Ship Mode', column_1], sort=False)[[column_2\n",
    "                                ]].mean().sort_values(column_2,ascending = False)\n",
    "    \n",
    "    mode_std = tb3.loc['Standard Class']\n",
    "    mode_same = tb3.loc['Same Day']\n",
    "\n",
    "    #plt.figure(figsize = (10,8))\n",
    "    if (mode_same[column_2].sum() > mode_std[column_2].sum()).sum() > 0:\n",
    "        plt.bar(mode_same.index, mode_same[column_2], label='Same Day', color = 'orange')\n",
    "        plt.bar(mode_std.index, mode_std[column_2], label='Standard Class', color = 'green')\n",
    "    elif (mode_same[column_2].sum() < mode_std[column_2].sum()).sum() > 0:\n",
    "        plt.bar(mode_std.index, mode_std[column_2], label='Standard Class', color = 'green')\n",
    "        plt.bar(mode_same.index, mode_same[column_2], label='Same Day', color = 'orange')\n",
    "    \n",
    "#     else:\n",
    "#         plt.bar(mode_std.index, mode_std[column_2], label='Standard Class', color = 'green')\n",
    "#         plt.bar(mode_same.index, mode_same[column_2], label='Same Day', color = 'orange')\n",
    "    \n",
    "    \n",
    "\n",
    "\n",
    "    plt.legend()\n"
   ]
  },
  {
   "cell_type": "code",
   "execution_count": null,
   "metadata": {},
   "outputs": [],
   "source": [
    "ship_mod_cols ('Category', 'Ship Date_M') # Assessing 'Standard Class' AND 'Same Day' in Product \n",
    "                                          # Categories\n",
    "                                          # 'Ship Date_M' is chosen to enable us count our categorical\n",
    "                                          # variable in the first parameter"
   ]
  },
  {
   "cell_type": "code",
   "execution_count": null,
   "metadata": {
    "scrolled": true
   },
   "outputs": [],
   "source": []
  },
  {
   "cell_type": "code",
   "execution_count": null,
   "metadata": {},
   "outputs": [],
   "source": []
  },
  {
   "cell_type": "markdown",
   "metadata": {},
   "source": [
    "- The product category with **Standard Class** as the highest mode of shipment is **Office Supplies**.\n",
    "- The product category with **Same Day** as the lowest mode of shipment is **Furniture**"
   ]
  },
  {
   "cell_type": "code",
   "execution_count": null,
   "metadata": {},
   "outputs": [],
   "source": []
  },
  {
   "cell_type": "code",
   "execution_count": null,
   "metadata": {},
   "outputs": [],
   "source": [
    "ship_mod_cols ('Market', 'Ship Date_M') # Assessing 'Standard Class' AND 'Same Day' in Markets \n",
    "                                        # 'Ship Date_M' is chosen to enable us count our categorical\n",
    "                                        # variable in the first parameter\n",
    "                                        "
   ]
  },
  {
   "cell_type": "markdown",
   "metadata": {},
   "source": [
    "- The Market with **Standard Class** as the highest mode of shipment is **APAC**.\n",
    "- The Market with **Same Day** as the lowest mode of shipment is **Canada**"
   ]
  },
  {
   "cell_type": "code",
   "execution_count": null,
   "metadata": {},
   "outputs": [],
   "source": [
    "ship_mod_cols ('Market', 'Shipping Cost')  # "
   ]
  },
  {
   "cell_type": "code",
   "execution_count": null,
   "metadata": {},
   "outputs": [],
   "source": []
  },
  {
   "cell_type": "code",
   "execution_count": null,
   "metadata": {},
   "outputs": [],
   "source": [
    "##### Using correlation to determine the relationship between shipping cost and Sales\n",
    "\n",
    "ship_data[['Shipping Cost', 'Sales']].corr()"
   ]
  },
  {
   "cell_type": "markdown",
   "metadata": {},
   "source": [
    "- **Same Day** incurs more shipping cost in all markets than **Standard Class**. Cost in **Same Day** mode is twice the cost in **Standard Class** mode in every market.\n",
    "- Both **Same Day** and **Standard Class** mode incurred their highest average shipping cost in **APAC** market\n",
    "- Both **Same Day** and **Standard Class** mode incurred their lowest average shipping cost in **Canada**\n",
    "- Because **Same Day** is not being used often from 2011 to 2014, the company is on the track of reducing its shipment cost since it costs the company more than the **Standard Class**. \n",
    "- Because of the strong positive correlation between Shipping Cost and Sales, any effort such as reducing **Same Day** in order to reduce cost can have serious negative impact on sales. This means that sales in Canada is likely to be lower than that in APAC since it had the lowest use of **Same Day**. \n"
   ]
  },
  {
   "cell_type": "code",
   "execution_count": null,
   "metadata": {},
   "outputs": [],
   "source": [
    "## Quantity of product categories transported to different markets\n",
    "#using different modes\n",
    "\n",
    "tb4 = ship_data.pivot_table(index = 'Market',values = 'Quantity',columns = 'Category',\n",
    "                            aggfunc='sum',margins =True,margins_name ='Total')\n",
    "\n",
    "tb4.sort_values('Total')"
   ]
  },
  {
   "cell_type": "markdown",
   "metadata": {},
   "source": [
    "- Office supplies was the highest product category sold\n",
    "- The least sold product is Furniture. This is due to their nature, unlike frequently used products by customers\n",
    "- Effort should be put in place to increase the quantity of products sold in Canada and Africa"
   ]
  },
  {
   "cell_type": "code",
   "execution_count": null,
   "metadata": {},
   "outputs": [],
   "source": [
    "## Shipping cost incurred in using different mode to transport quantity of products \n",
    "#to different markets\n",
    "\n",
    "tb5 = ship_data.pivot_table(index = 'Market',values = 'shipping cost perUnit',columns = 'Ship Mode',\n",
    "                            aggfunc='sum',margins =True,margins_name ='Total')\n",
    "\n",
    "tb5#.sort_values('Total',)"
   ]
  },
  {
   "cell_type": "markdown",
   "metadata": {},
   "source": [
    "**INCREASING PROFIT:**\n",
    "- Shipping cost in APAC should be reduced by using more Same Day shipping mode which has lowest shipping cost. Besides, Same Day shipping mode has the possibility of increasing sales revenue due to its ability to increase customer fill rate."
   ]
  },
  {
   "cell_type": "code",
   "execution_count": null,
   "metadata": {},
   "outputs": [],
   "source": []
  },
  {
   "cell_type": "markdown",
   "metadata": {},
   "source": [
    "### Analysis on individual columns except **Postal Code** \n",
    " - (b) Geographical area: **Segment**, **City**, **State**, **Country**, **Market**, **Region**, Shipping Cost, 'Product Name', Category, Quantity, Sales, Unit Price, Profit "
   ]
  },
  {
   "cell_type": "code",
   "execution_count": 42,
   "metadata": {},
   "outputs": [
    {
     "data": {
      "text/html": [
       "<div>\n",
       "<style scoped>\n",
       "    .dataframe tbody tr th:only-of-type {\n",
       "        vertical-align: middle;\n",
       "    }\n",
       "\n",
       "    .dataframe tbody tr th {\n",
       "        vertical-align: top;\n",
       "    }\n",
       "\n",
       "    .dataframe thead th {\n",
       "        text-align: right;\n",
       "    }\n",
       "</style>\n",
       "<table border=\"1\" class=\"dataframe\">\n",
       "  <thead>\n",
       "    <tr style=\"text-align: right;\">\n",
       "      <th></th>\n",
       "      <th>Segment</th>\n",
       "      <th>City</th>\n",
       "      <th>State</th>\n",
       "      <th>Country</th>\n",
       "      <th>Market</th>\n",
       "      <th>Region</th>\n",
       "      <th>Category</th>\n",
       "      <th>Product Name</th>\n",
       "      <th>Customer ID</th>\n",
       "      <th>Sales</th>\n",
       "    </tr>\n",
       "  </thead>\n",
       "  <tbody>\n",
       "    <tr>\n",
       "      <th>count</th>\n",
       "      <td>51290</td>\n",
       "      <td>51290</td>\n",
       "      <td>51290</td>\n",
       "      <td>51290</td>\n",
       "      <td>51290</td>\n",
       "      <td>51290</td>\n",
       "      <td>51290</td>\n",
       "      <td>51290</td>\n",
       "      <td>51290</td>\n",
       "      <td>51290.000000</td>\n",
       "    </tr>\n",
       "    <tr>\n",
       "      <th>unique</th>\n",
       "      <td>3</td>\n",
       "      <td>3636</td>\n",
       "      <td>1094</td>\n",
       "      <td>147</td>\n",
       "      <td>7</td>\n",
       "      <td>13</td>\n",
       "      <td>3</td>\n",
       "      <td>3788</td>\n",
       "      <td>1590</td>\n",
       "      <td>NaN</td>\n",
       "    </tr>\n",
       "    <tr>\n",
       "      <th>top</th>\n",
       "      <td>Consumer</td>\n",
       "      <td>New York City</td>\n",
       "      <td>California</td>\n",
       "      <td>United States</td>\n",
       "      <td>APAC</td>\n",
       "      <td>Central</td>\n",
       "      <td>Office Supplies</td>\n",
       "      <td>Staples</td>\n",
       "      <td>PO-18850</td>\n",
       "      <td>NaN</td>\n",
       "    </tr>\n",
       "    <tr>\n",
       "      <th>freq</th>\n",
       "      <td>26518</td>\n",
       "      <td>915</td>\n",
       "      <td>2001</td>\n",
       "      <td>9994</td>\n",
       "      <td>11002</td>\n",
       "      <td>11117</td>\n",
       "      <td>31273</td>\n",
       "      <td>227</td>\n",
       "      <td>97</td>\n",
       "      <td>NaN</td>\n",
       "    </tr>\n",
       "    <tr>\n",
       "      <th>mean</th>\n",
       "      <td>NaN</td>\n",
       "      <td>NaN</td>\n",
       "      <td>NaN</td>\n",
       "      <td>NaN</td>\n",
       "      <td>NaN</td>\n",
       "      <td>NaN</td>\n",
       "      <td>NaN</td>\n",
       "      <td>NaN</td>\n",
       "      <td>NaN</td>\n",
       "      <td>246.490581</td>\n",
       "    </tr>\n",
       "    <tr>\n",
       "      <th>std</th>\n",
       "      <td>NaN</td>\n",
       "      <td>NaN</td>\n",
       "      <td>NaN</td>\n",
       "      <td>NaN</td>\n",
       "      <td>NaN</td>\n",
       "      <td>NaN</td>\n",
       "      <td>NaN</td>\n",
       "      <td>NaN</td>\n",
       "      <td>NaN</td>\n",
       "      <td>487.565361</td>\n",
       "    </tr>\n",
       "    <tr>\n",
       "      <th>min</th>\n",
       "      <td>NaN</td>\n",
       "      <td>NaN</td>\n",
       "      <td>NaN</td>\n",
       "      <td>NaN</td>\n",
       "      <td>NaN</td>\n",
       "      <td>NaN</td>\n",
       "      <td>NaN</td>\n",
       "      <td>NaN</td>\n",
       "      <td>NaN</td>\n",
       "      <td>0.444000</td>\n",
       "    </tr>\n",
       "    <tr>\n",
       "      <th>25%</th>\n",
       "      <td>NaN</td>\n",
       "      <td>NaN</td>\n",
       "      <td>NaN</td>\n",
       "      <td>NaN</td>\n",
       "      <td>NaN</td>\n",
       "      <td>NaN</td>\n",
       "      <td>NaN</td>\n",
       "      <td>NaN</td>\n",
       "      <td>NaN</td>\n",
       "      <td>30.758625</td>\n",
       "    </tr>\n",
       "    <tr>\n",
       "      <th>50%</th>\n",
       "      <td>NaN</td>\n",
       "      <td>NaN</td>\n",
       "      <td>NaN</td>\n",
       "      <td>NaN</td>\n",
       "      <td>NaN</td>\n",
       "      <td>NaN</td>\n",
       "      <td>NaN</td>\n",
       "      <td>NaN</td>\n",
       "      <td>NaN</td>\n",
       "      <td>85.053000</td>\n",
       "    </tr>\n",
       "    <tr>\n",
       "      <th>75%</th>\n",
       "      <td>NaN</td>\n",
       "      <td>NaN</td>\n",
       "      <td>NaN</td>\n",
       "      <td>NaN</td>\n",
       "      <td>NaN</td>\n",
       "      <td>NaN</td>\n",
       "      <td>NaN</td>\n",
       "      <td>NaN</td>\n",
       "      <td>NaN</td>\n",
       "      <td>251.053200</td>\n",
       "    </tr>\n",
       "    <tr>\n",
       "      <th>max</th>\n",
       "      <td>NaN</td>\n",
       "      <td>NaN</td>\n",
       "      <td>NaN</td>\n",
       "      <td>NaN</td>\n",
       "      <td>NaN</td>\n",
       "      <td>NaN</td>\n",
       "      <td>NaN</td>\n",
       "      <td>NaN</td>\n",
       "      <td>NaN</td>\n",
       "      <td>22638.480000</td>\n",
       "    </tr>\n",
       "  </tbody>\n",
       "</table>\n",
       "</div>"
      ],
      "text/plain": [
       "         Segment           City       State        Country Market   Region  \\\n",
       "count      51290          51290       51290          51290  51290    51290   \n",
       "unique         3           3636        1094            147      7       13   \n",
       "top     Consumer  New York City  California  United States   APAC  Central   \n",
       "freq       26518            915        2001           9994  11002    11117   \n",
       "mean         NaN            NaN         NaN            NaN    NaN      NaN   \n",
       "std          NaN            NaN         NaN            NaN    NaN      NaN   \n",
       "min          NaN            NaN         NaN            NaN    NaN      NaN   \n",
       "25%          NaN            NaN         NaN            NaN    NaN      NaN   \n",
       "50%          NaN            NaN         NaN            NaN    NaN      NaN   \n",
       "75%          NaN            NaN         NaN            NaN    NaN      NaN   \n",
       "max          NaN            NaN         NaN            NaN    NaN      NaN   \n",
       "\n",
       "               Category Product Name Customer ID         Sales  \n",
       "count             51290        51290       51290  51290.000000  \n",
       "unique                3         3788        1590           NaN  \n",
       "top     Office Supplies      Staples    PO-18850           NaN  \n",
       "freq              31273          227          97           NaN  \n",
       "mean                NaN          NaN         NaN    246.490581  \n",
       "std                 NaN          NaN         NaN    487.565361  \n",
       "min                 NaN          NaN         NaN      0.444000  \n",
       "25%                 NaN          NaN         NaN     30.758625  \n",
       "50%                 NaN          NaN         NaN     85.053000  \n",
       "75%                 NaN          NaN         NaN    251.053200  \n",
       "max                 NaN          NaN         NaN  22638.480000  "
      ]
     },
     "execution_count": 42,
     "metadata": {},
     "output_type": "execute_result"
    }
   ],
   "source": [
    "geo_data = data[['Segment', 'City', 'State', 'Country', 'Market', 'Region', 'Category', 'Product Name', 'Customer ID', 'Sales']]\n",
    "\n",
    "geo_data.describe(include='all')"
   ]
  },
  {
   "cell_type": "code",
   "execution_count": 43,
   "metadata": {},
   "outputs": [
    {
     "data": {
      "text/html": [
       "<div>\n",
       "<style scoped>\n",
       "    .dataframe tbody tr th:only-of-type {\n",
       "        vertical-align: middle;\n",
       "    }\n",
       "\n",
       "    .dataframe tbody tr th {\n",
       "        vertical-align: top;\n",
       "    }\n",
       "\n",
       "    .dataframe thead th {\n",
       "        text-align: right;\n",
       "    }\n",
       "</style>\n",
       "<table border=\"1\" class=\"dataframe\">\n",
       "  <thead>\n",
       "    <tr style=\"text-align: right;\">\n",
       "      <th></th>\n",
       "      <th>Segment</th>\n",
       "      <th>Country</th>\n",
       "    </tr>\n",
       "  </thead>\n",
       "  <tbody>\n",
       "    <tr>\n",
       "      <th>3013</th>\n",
       "      <td>Corporate</td>\n",
       "      <td>Zimbabwe</td>\n",
       "    </tr>\n",
       "    <tr>\n",
       "      <th>3328</th>\n",
       "      <td>Consumer</td>\n",
       "      <td>Zimbabwe</td>\n",
       "    </tr>\n",
       "    <tr>\n",
       "      <th>11582</th>\n",
       "      <td>Home Office</td>\n",
       "      <td>Zimbabwe</td>\n",
       "    </tr>\n",
       "  </tbody>\n",
       "</table>\n",
       "</div>"
      ],
      "text/plain": [
       "           Segment   Country\n",
       "3013     Corporate  Zimbabwe\n",
       "3328      Consumer  Zimbabwe\n",
       "11582  Home Office  Zimbabwe"
      ]
     },
     "execution_count": 43,
     "metadata": {},
     "output_type": "execute_result"
    }
   ],
   "source": [
    "trying = geo_data.copy()\n",
    "trying[['Segment', 'Country']][trying['Country']=='Zimbabwe'].drop_duplicates(subset=\"Segment\")\n",
    " "
   ]
  },
  {
   "cell_type": "markdown",
   "metadata": {},
   "source": [
    "- New York City and Califonia are the city and State in the United States most frequently transacted  \n"
   ]
  },
  {
   "cell_type": "code",
   "execution_count": 44,
   "metadata": {},
   "outputs": [],
   "source": [
    "#This function defines and returns the countries with the highest number of Cities, States, Markets,Categories, Regions\n",
    "#Customers, and Products being sold).\n",
    "# col: specifies the column - area of comparison ((City, State, Market, Region, Category, Product Name))\n",
    "# level specifies whether we need 'top' country or 'last' country in terms of ity, State, Market,or Region with most \n",
    "# transaction\n",
    "\n",
    "def best_countries_in (col):\n",
    "    location = geo_data.copy()\n",
    "    # location_unique_col = location.groupby ('Country').drop_duplicates(subset = [col])\n",
    "    location_group = location.groupby('Country')\n",
    "    \n",
    "    countries = {}\n",
    "    for country, cols in location_group: \n",
    "        num_in_columns = len(cols[[col]].drop_duplicates())\n",
    "        v = {country: num_in_columns}\n",
    "        countries.update(v)\n",
    "    if col == 'State':\n",
    "        col = 'Number of States'\n",
    "    elif  col == 'Category':\n",
    "        col = 'Categories'\n",
    "    elif col == 'Market':\n",
    "        col = 'Number of Markets'\n",
    "    elif col == 'Customer ID':\n",
    "        col = 'Number of customers'\n",
    "    elif col == 'Product Name':\n",
    "        col = 'Products Sold'    \n",
    "    \n",
    "    output_data = np.array(sorted (countries.items()))\n",
    "    output_df = pd.DataFrame(output_data, columns = \n",
    "                    ['Country',col]).set_index('Country').sort_values(col, ascending=False)  \n",
    "    \n",
    "\n",
    "    \n",
    "    return output_df\n",
    "\n",
    "# def func (col):\n",
    "\n",
    "#     df = best_countries_in (col)\n",
    "#     for col in ['City', 'State', 'Market', 'Region', 'Category', 'Product Name']:\n",
    "         \n",
    "#         df = pd.merge(df, best_countries_in (col))\n",
    "       \n",
    "    \n",
    "#     return df\n",
    "\n"
   ]
  },
  {
   "cell_type": "code",
   "execution_count": null,
   "metadata": {
    "scrolled": true
   },
   "outputs": [],
   "source": []
  },
  {
   "cell_type": "code",
   "execution_count": 46,
   "metadata": {},
   "outputs": [
    {
     "ename": "NameError",
     "evalue": "name 'cat_highest' is not defined",
     "output_type": "error",
     "traceback": [
      "\u001b[1;31m---------------------------------------------------------------------------\u001b[0m",
      "\u001b[1;31mNameError\u001b[0m                                 Traceback (most recent call last)",
      "\u001b[1;32m<ipython-input-46-1e430db6363e>\u001b[0m in \u001b[0;36m<module>\u001b[1;34m\u001b[0m\n\u001b[1;32m----> 1\u001b[1;33m \u001b[0mcat_highest\u001b[0m \u001b[1;33m=\u001b[0m \u001b[0mcat_highest\u001b[0m\u001b[1;33m[\u001b[0m\u001b[0mcat_highest\u001b[0m\u001b[1;33m[\u001b[0m\u001b[1;34m'Categories'\u001b[0m\u001b[1;33m]\u001b[0m \u001b[1;33m>\u001b[0m \u001b[1;34m'1'\u001b[0m\u001b[1;33m]\u001b[0m\u001b[1;31m#best_countries_in('Category')\u001b[0m\u001b[1;33m\u001b[0m\u001b[1;33m\u001b[0m\u001b[0m\n\u001b[0m",
      "\u001b[1;31mNameError\u001b[0m: name 'cat_highest' is not defined"
     ]
    }
   ],
   "source": [
    "cat_highest = cat_highest[cat_highest['Categories'] > '1']#best_countries_in('Category')\n"
   ]
  },
  {
   "cell_type": "code",
   "execution_count": 47,
   "metadata": {},
   "outputs": [],
   "source": [
    "states_highest = best_countries_in('State')\n"
   ]
  },
  {
   "cell_type": "code",
   "execution_count": 48,
   "metadata": {},
   "outputs": [],
   "source": [
    "customers_highest = best_countries_in('Customer ID').head(30)"
   ]
  },
  {
   "cell_type": "code",
   "execution_count": 49,
   "metadata": {
    "scrolled": true
   },
   "outputs": [],
   "source": [
    "product_highest = best_countries_in('Product Name')\n"
   ]
  },
  {
   "cell_type": "code",
   "execution_count": null,
   "metadata": {},
   "outputs": [],
   "source": []
  },
  {
   "cell_type": "code",
   "execution_count": null,
   "metadata": {},
   "outputs": [],
   "source": []
  },
  {
   "cell_type": "code",
   "execution_count": null,
   "metadata": {},
   "outputs": [],
   "source": []
  },
  {
   "cell_type": "code",
   "execution_count": null,
   "metadata": {},
   "outputs": [],
   "source": [
    "\n"
   ]
  },
  {
   "cell_type": "code",
   "execution_count": null,
   "metadata": {},
   "outputs": [],
   "source": []
  },
  {
   "cell_type": "code",
   "execution_count": null,
   "metadata": {},
   "outputs": [],
   "source": []
  },
  {
   "cell_type": "markdown",
   "metadata": {},
   "source": [
    "- **United States tops the number of transactions in term of Segment, City, State, Market, and Region**\n",
    "- **Chad is the least transacted country interms of City, State, Market and Region** "
   ]
  },
  {
   "cell_type": "code",
   "execution_count": null,
   "metadata": {},
   "outputs": [],
   "source": []
  },
  {
   "cell_type": "markdown",
   "metadata": {},
   "source": [
    "### b) i.  Analysing other variables (financial variables):  Shipping Cost, Category, Quantity, Sales, Unit Price, Profit on the Geographical variables: Segment, City, State, Country, Market, Region"
   ]
  },
  {
   "cell_type": "code",
   "execution_count": null,
   "metadata": {},
   "outputs": [],
   "source": []
  },
  {
   "cell_type": "markdown",
   "metadata": {},
   "source": [
    "##### (a)Distribution Product Category"
   ]
  },
  {
   "cell_type": "code",
   "execution_count": null,
   "metadata": {},
   "outputs": [],
   "source": []
  },
  {
   "cell_type": "code",
   "execution_count": 50,
   "metadata": {},
   "outputs": [
    {
     "ename": "KeyError",
     "evalue": "\"['Unit Price'] not in index\"",
     "output_type": "error",
     "traceback": [
      "\u001b[1;31m---------------------------------------------------------------------------\u001b[0m",
      "\u001b[1;31mKeyError\u001b[0m                                  Traceback (most recent call last)",
      "\u001b[1;32m<ipython-input-50-906abbe4ece6>\u001b[0m in \u001b[0;36m<module>\u001b[1;34m\u001b[0m\n\u001b[0;32m      1\u001b[0m \u001b[1;31m#UNIT PRICE\u001b[0m\u001b[1;33m\u001b[0m\u001b[1;33m\u001b[0m\u001b[1;33m\u001b[0m\u001b[0m\n\u001b[0;32m      2\u001b[0m \u001b[1;33m\u001b[0m\u001b[0m\n\u001b[1;32m----> 3\u001b[1;33m geo_data_others  = data[['Segment', 'City', 'State', 'Country', 'Market', 'Region', 'Unit Cost', \n\u001b[0m\u001b[0;32m      4\u001b[0m                         'Category', 'Quantity', 'Sales', 'Unit Price', 'Profit']]\n\u001b[0;32m      5\u001b[0m \u001b[1;33m\u001b[0m\u001b[0m\n",
      "\u001b[1;32m~\\anaconda3\\lib\\site-packages\\pandas\\core\\frame.py\u001b[0m in \u001b[0;36m__getitem__\u001b[1;34m(self, key)\u001b[0m\n\u001b[0;32m   2804\u001b[0m             \u001b[1;32mif\u001b[0m \u001b[0mis_iterator\u001b[0m\u001b[1;33m(\u001b[0m\u001b[0mkey\u001b[0m\u001b[1;33m)\u001b[0m\u001b[1;33m:\u001b[0m\u001b[1;33m\u001b[0m\u001b[1;33m\u001b[0m\u001b[0m\n\u001b[0;32m   2805\u001b[0m                 \u001b[0mkey\u001b[0m \u001b[1;33m=\u001b[0m \u001b[0mlist\u001b[0m\u001b[1;33m(\u001b[0m\u001b[0mkey\u001b[0m\u001b[1;33m)\u001b[0m\u001b[1;33m\u001b[0m\u001b[1;33m\u001b[0m\u001b[0m\n\u001b[1;32m-> 2806\u001b[1;33m             \u001b[0mindexer\u001b[0m \u001b[1;33m=\u001b[0m \u001b[0mself\u001b[0m\u001b[1;33m.\u001b[0m\u001b[0mloc\u001b[0m\u001b[1;33m.\u001b[0m\u001b[0m_get_listlike_indexer\u001b[0m\u001b[1;33m(\u001b[0m\u001b[0mkey\u001b[0m\u001b[1;33m,\u001b[0m \u001b[0maxis\u001b[0m\u001b[1;33m=\u001b[0m\u001b[1;36m1\u001b[0m\u001b[1;33m,\u001b[0m \u001b[0mraise_missing\u001b[0m\u001b[1;33m=\u001b[0m\u001b[1;32mTrue\u001b[0m\u001b[1;33m)\u001b[0m\u001b[1;33m[\u001b[0m\u001b[1;36m1\u001b[0m\u001b[1;33m]\u001b[0m\u001b[1;33m\u001b[0m\u001b[1;33m\u001b[0m\u001b[0m\n\u001b[0m\u001b[0;32m   2807\u001b[0m \u001b[1;33m\u001b[0m\u001b[0m\n\u001b[0;32m   2808\u001b[0m         \u001b[1;31m# take() does not accept boolean indexers\u001b[0m\u001b[1;33m\u001b[0m\u001b[1;33m\u001b[0m\u001b[1;33m\u001b[0m\u001b[0m\n",
      "\u001b[1;32m~\\anaconda3\\lib\\site-packages\\pandas\\core\\indexing.py\u001b[0m in \u001b[0;36m_get_listlike_indexer\u001b[1;34m(self, key, axis, raise_missing)\u001b[0m\n\u001b[0;32m   1550\u001b[0m             \u001b[0mkeyarr\u001b[0m\u001b[1;33m,\u001b[0m \u001b[0mindexer\u001b[0m\u001b[1;33m,\u001b[0m \u001b[0mnew_indexer\u001b[0m \u001b[1;33m=\u001b[0m \u001b[0max\u001b[0m\u001b[1;33m.\u001b[0m\u001b[0m_reindex_non_unique\u001b[0m\u001b[1;33m(\u001b[0m\u001b[0mkeyarr\u001b[0m\u001b[1;33m)\u001b[0m\u001b[1;33m\u001b[0m\u001b[1;33m\u001b[0m\u001b[0m\n\u001b[0;32m   1551\u001b[0m \u001b[1;33m\u001b[0m\u001b[0m\n\u001b[1;32m-> 1552\u001b[1;33m         self._validate_read_indexer(\n\u001b[0m\u001b[0;32m   1553\u001b[0m             \u001b[0mkeyarr\u001b[0m\u001b[1;33m,\u001b[0m \u001b[0mindexer\u001b[0m\u001b[1;33m,\u001b[0m \u001b[0mo\u001b[0m\u001b[1;33m.\u001b[0m\u001b[0m_get_axis_number\u001b[0m\u001b[1;33m(\u001b[0m\u001b[0maxis\u001b[0m\u001b[1;33m)\u001b[0m\u001b[1;33m,\u001b[0m \u001b[0mraise_missing\u001b[0m\u001b[1;33m=\u001b[0m\u001b[0mraise_missing\u001b[0m\u001b[1;33m\u001b[0m\u001b[1;33m\u001b[0m\u001b[0m\n\u001b[0;32m   1554\u001b[0m         )\n",
      "\u001b[1;32m~\\anaconda3\\lib\\site-packages\\pandas\\core\\indexing.py\u001b[0m in \u001b[0;36m_validate_read_indexer\u001b[1;34m(self, key, indexer, axis, raise_missing)\u001b[0m\n\u001b[0;32m   1644\u001b[0m             \u001b[1;32mif\u001b[0m \u001b[1;32mnot\u001b[0m \u001b[1;33m(\u001b[0m\u001b[0mself\u001b[0m\u001b[1;33m.\u001b[0m\u001b[0mname\u001b[0m \u001b[1;33m==\u001b[0m \u001b[1;34m\"loc\"\u001b[0m \u001b[1;32mand\u001b[0m \u001b[1;32mnot\u001b[0m \u001b[0mraise_missing\u001b[0m\u001b[1;33m)\u001b[0m\u001b[1;33m:\u001b[0m\u001b[1;33m\u001b[0m\u001b[1;33m\u001b[0m\u001b[0m\n\u001b[0;32m   1645\u001b[0m                 \u001b[0mnot_found\u001b[0m \u001b[1;33m=\u001b[0m \u001b[0mlist\u001b[0m\u001b[1;33m(\u001b[0m\u001b[0mset\u001b[0m\u001b[1;33m(\u001b[0m\u001b[0mkey\u001b[0m\u001b[1;33m)\u001b[0m \u001b[1;33m-\u001b[0m \u001b[0mset\u001b[0m\u001b[1;33m(\u001b[0m\u001b[0max\u001b[0m\u001b[1;33m)\u001b[0m\u001b[1;33m)\u001b[0m\u001b[1;33m\u001b[0m\u001b[1;33m\u001b[0m\u001b[0m\n\u001b[1;32m-> 1646\u001b[1;33m                 \u001b[1;32mraise\u001b[0m \u001b[0mKeyError\u001b[0m\u001b[1;33m(\u001b[0m\u001b[1;34mf\"{not_found} not in index\"\u001b[0m\u001b[1;33m)\u001b[0m\u001b[1;33m\u001b[0m\u001b[1;33m\u001b[0m\u001b[0m\n\u001b[0m\u001b[0;32m   1647\u001b[0m \u001b[1;33m\u001b[0m\u001b[0m\n\u001b[0;32m   1648\u001b[0m             \u001b[1;31m# we skip the warning on Categorical/Interval\u001b[0m\u001b[1;33m\u001b[0m\u001b[1;33m\u001b[0m\u001b[1;33m\u001b[0m\u001b[0m\n",
      "\u001b[1;31mKeyError\u001b[0m: \"['Unit Price'] not in index\""
     ]
    }
   ],
   "source": [
    "#UNIT PRICE\n",
    "\n",
    "geo_data_others  = data[['Segment', 'City', 'State', 'Country', 'Market', 'Region', 'Unit Cost', \n",
    "                        'Category', 'Quantity', 'Sales', 'Unit Price', 'Profit']]\n",
    "\n",
    "def other_var_geo (location):\n",
    "    geo_data_others[location,'Unit Cost','Quantity', 'Sales', 'Unit Price', 'Profit']\n",
    "    \n",
    "    \n",
    "\n"
   ]
  },
  {
   "cell_type": "code",
   "execution_count": null,
   "metadata": {},
   "outputs": [],
   "source": [
    "sns.distplot(geo_data_others['Unit Cost'])"
   ]
  },
  {
   "cell_type": "code",
   "execution_count": null,
   "metadata": {},
   "outputs": [],
   "source": [
    "# unit_price_cat (Column name'sub Category', 'variable：cost, profit, sales')\n",
    "\n",
    "def cost_sales_prof_dist (column, sub, var):\n",
    "\n",
    "    ttd = geo_data_others[geo_data_others[[var, column]][column]==sub]\n",
    "    \n",
    "    \n",
    "    sns.distplot(ttd[var])     \n",
    "    print(sub,'  max ', var, ':' , max(ttd[var]), 'min ', var,': ', min(ttd[var]), \n",
    "          'mean ', var, ': ', ttd[var].mean())\n",
    "    \n",
    "    \n",
    " "
   ]
  },
  {
   "cell_type": "code",
   "execution_count": null,
   "metadata": {},
   "outputs": [],
   "source": [
    "data.to_csv('C:/Users/hp/Documents/Blossom Academy/Trying_Data/data_sales.csv')\n",
    "\n",
    "#C:\\Users\\hp\\Documents\\Blossom Academy\\Trying_Data"
   ]
  },
  {
   "cell_type": "code",
   "execution_count": null,
   "metadata": {},
   "outputs": [],
   "source": []
  },
  {
   "cell_type": "code",
   "execution_count": null,
   "metadata": {},
   "outputs": [],
   "source": [
    "\n",
    "    \n",
    " "
   ]
  },
  {
   "cell_type": "code",
   "execution_count": null,
   "metadata": {},
   "outputs": [],
   "source": [
    "\n"
   ]
  },
  {
   "cell_type": "code",
   "execution_count": null,
   "metadata": {},
   "outputs": [],
   "source": []
  },
  {
   "cell_type": "code",
   "execution_count": null,
   "metadata": {},
   "outputs": [],
   "source": []
  },
  {
   "cell_type": "markdown",
   "metadata": {},
   "source": [
    "#### Distribution in Product Category (Technology, Furniture, Office Supplies)\n",
    "Cost, unit price, profit, sales"
   ]
  },
  {
   "cell_type": "code",
   "execution_count": null,
   "metadata": {},
   "outputs": [],
   "source": [
    "# Select only Top and Last Market in terms of Cost, Unit Price, Profit and Sales\n",
    "\n",
    "dta = data[['Category', 'Cost', 'Unit Price', 'Profit', 'Sales']].groupby('Category').mean()\n",
    "#dta.sort_values('Sales')\n",
    "dta"
   ]
  },
  {
   "cell_type": "code",
   "execution_count": null,
   "metadata": {},
   "outputs": [],
   "source": [
    "dta.index"
   ]
  },
  {
   "cell_type": "code",
   "execution_count": null,
   "metadata": {},
   "outputs": [],
   "source": []
  },
  {
   "cell_type": "markdown",
   "metadata": {},
   "source": [
    ",,,,,,,,,,,,,,,,,,,,,,,,,,,,,,,,,,,,,,,,,,,,,,,,,,,,,,,,,,,,,,,,,,,,,,,,,,,,,,,,,,,,,,,,,,,,"
   ]
  },
  {
   "cell_type": "code",
   "execution_count": null,
   "metadata": {
    "scrolled": true
   },
   "outputs": [],
   "source": [
    "\n",
    "#cost_sales_prof_dist('Category', 'Technology', 'Unit Cost') # Unit Cost"
   ]
  },
  {
   "cell_type": "code",
   "execution_count": null,
   "metadata": {},
   "outputs": [],
   "source": [
    "#cost_sales_prof_dist('Category', 'Furniture', 'Unit Cost') # Unit Cost"
   ]
  },
  {
   "cell_type": "code",
   "execution_count": null,
   "metadata": {},
   "outputs": [],
   "source": [
    "#cost_sales_prof_dist('Category', 'Office Supplies', 'Unit Cost') # Unit Cost"
   ]
  },
  {
   "cell_type": "markdown",
   "metadata": {},
   "source": [
    ",,,,,,,,,,,,,,,,,,,,,,,,,,,,,,,,,,,,,,,,,,,,,,,,,,,,,,,,,,,,,,,,,,,,,,,,,,,,,,,,,,,,,,,,,,,,,"
   ]
  },
  {
   "cell_type": "code",
   "execution_count": null,
   "metadata": {},
   "outputs": [],
   "source": [
    "#cost_sales_prof_dist('Category', 'Technology', 'Unit Price') # Unit Price "
   ]
  },
  {
   "cell_type": "code",
   "execution_count": null,
   "metadata": {},
   "outputs": [],
   "source": [
    "#cost_sales_prof_dist('Category', 'Furniture', 'Unit Price') # Unit Price "
   ]
  },
  {
   "cell_type": "code",
   "execution_count": null,
   "metadata": {
    "scrolled": true
   },
   "outputs": [],
   "source": [
    "#cost_sales_prof_dist('Category', 'Office Supplies', 'Unit Price') # Unit Price "
   ]
  },
  {
   "cell_type": "markdown",
   "metadata": {},
   "source": [
    ",,,,,,,,,,,,,,,,,,,,,,,,,,,,,,,,,,,,,,,,,,,,,,,,,,,,,,,,,,,,,,,,,,,,,,,,,,,,,,,,,,,,,,,,,,,,,,,,,"
   ]
  },
  {
   "cell_type": "code",
   "execution_count": null,
   "metadata": {},
   "outputs": [],
   "source": [
    "#cost_sales_prof_dist('Category', 'Technology', 'Sales') # Sales"
   ]
  },
  {
   "cell_type": "code",
   "execution_count": null,
   "metadata": {},
   "outputs": [],
   "source": [
    "#cost_sales_prof_dist('Category', 'Furniture', 'Sales') # Sales"
   ]
  },
  {
   "cell_type": "code",
   "execution_count": null,
   "metadata": {},
   "outputs": [],
   "source": [
    "#cost_sales_prof_dist('Category', 'Office Supplies', 'Sales') # Sales"
   ]
  },
  {
   "cell_type": "markdown",
   "metadata": {},
   "source": [
    ",,,,,,,,,,,,,,,,,,,,,,,,,,,,,,,,,,,,,,,,,,,,,,,,,,,,,,,,,,,,,,,,,,,,,,,,,,,,,,,,,,,,,,,,,,,,,,,,,"
   ]
  },
  {
   "cell_type": "code",
   "execution_count": null,
   "metadata": {},
   "outputs": [],
   "source": [
    "#cost_sales_prof_dist('Category', 'Technology', 'Profit') # Profit"
   ]
  },
  {
   "cell_type": "code",
   "execution_count": null,
   "metadata": {},
   "outputs": [],
   "source": [
    "#cost_sales_prof_dist('Category', 'Furniture', 'Profit') # Profit"
   ]
  },
  {
   "cell_type": "code",
   "execution_count": null,
   "metadata": {},
   "outputs": [],
   "source": [
    "#cost_sales_prof_dist('Category', 'Office Supplies', 'Profit') # Profit"
   ]
  },
  {
   "cell_type": "code",
   "execution_count": null,
   "metadata": {},
   "outputs": [],
   "source": []
  },
  {
   "cell_type": "code",
   "execution_count": null,
   "metadata": {},
   "outputs": [],
   "source": []
  },
  {
   "cell_type": "code",
   "execution_count": null,
   "metadata": {},
   "outputs": [],
   "source": []
  },
  {
   "cell_type": "markdown",
   "metadata": {},
   "source": [
    "#### Distribution in Market (APAC, Africa, Canada, EMEA, EU, LATAM, US) \n",
    "Cost, unit price, profit, sales"
   ]
  },
  {
   "cell_type": "markdown",
   "metadata": {},
   "source": [
    ",,,,,,,,,,,,,,,,,,,,,,,,,,,,,,,,,,,,,,,,,,,,,,,,,,,,,,,,,,,,,,,,,,,,,,,,,,,,,,,,,,,,,,,,,,,,,,,,,"
   ]
  },
  {
   "cell_type": "code",
   "execution_count": null,
   "metadata": {},
   "outputs": [],
   "source": [
    "# Select only Top and Last Market in terms of Cost, Unit Price, Profit and Sales\n",
    "\n",
    "dta = data[['Market', 'Cost', 'Profit', 'Sales']].groupby('Market').mean()\n",
    "dta.sort_values('Sales')"
   ]
  },
  {
   "cell_type": "markdown",
   "metadata": {},
   "source": [
    "COST:\n",
    "- Highest Cost: APAC \n",
    "- Lowest Cost:Canada, Africa\n",
    "\n",
    "Profit:\n",
    "- Highest Profit: Canada\n",
    "- Lowest Profit:EMEA\n",
    "\n",
    "Sales:\n",
    "- Highest Sales: APAC\n",
    "- Lowest Sales:EMEA"
   ]
  },
  {
   "cell_type": "code",
   "execution_count": null,
   "metadata": {},
   "outputs": [],
   "source": [
    "cat_mkt = data[['Market', 'Category', 'Cost', 'Profit', 'Sales']]"
   ]
  },
  {
   "cell_type": "code",
   "execution_count": null,
   "metadata": {},
   "outputs": [],
   "source": [
    "# Changing the index\n",
    "cat_mkt.index = np.arange(1,len(cat_mkt)+1)\n",
    "cat_mkt.head()"
   ]
  },
  {
   "cell_type": "code",
   "execution_count": null,
   "metadata": {},
   "outputs": [],
   "source": [
    "cat_mkt_cost = cat_mkt.pivot_table(index = 'Market',values = 'Cost',columns = 'Category',aggfunc='mean')\n",
    "cat_mkt_sal = cat_mkt.pivot_table(index = 'Market',values = 'Sales',columns = 'Category',aggfunc='mean')\n",
    "cat_mkt_prof = cat_mkt.pivot_table(index = 'Market',values = 'Profit',columns = 'Category',aggfunc='mean')"
   ]
  },
  {
   "cell_type": "code",
   "execution_count": null,
   "metadata": {},
   "outputs": [],
   "source": []
  },
  {
   "cell_type": "code",
   "execution_count": null,
   "metadata": {
    "scrolled": false
   },
   "outputs": [],
   "source": [
    "def my_ploting(val,title):\n",
    "    width = 0.25\n",
    "    ticks_1 = np.arange(len(val.index))\n",
    "    ticks_2 = [i+width for i in ticks_1]\n",
    "    ticks_3 = [i+width for i in ticks_2]\n",
    "    plt.figure(figsize = (10,6))\n",
    "    plt_1=plt.bar(ticks_1,val['Furniture'].values,width = width,color='#168028',label = 'Furniture')\n",
    "    plt_2=plt.bar(ticks_2,val['Office Supplies'].values,width = width,color = '#FF0000',label = 'Office Supplies',)\n",
    "    plt_3=plt.bar(ticks_3,val['Technology'].values,width = width,color = '#002840',label = 'Technology',)\n",
    "    plt.xticks(ticks_1+width,val.index,rotation = 45,fontsize = '16')\n",
    "\n",
    "    def value_label(plot):\n",
    "        \"\"\"Attach a text label above each bar in plot, displaying its height.\"\"\"\n",
    "        for bar in plot:\n",
    "            height = round(bar.get_height())\n",
    "            plt.annotate('{}'.format(height),\n",
    "                        xy=(bar.get_x() + bar.get_width() / 2, height),\n",
    "                        xytext=(0, 3),  # 3 points vertical offset\n",
    "                        textcoords=\"offset points\",\n",
    "                        ha='center', va='bottom',color ='black')\n",
    "    \n",
    "\n",
    "    value_label(plt_1)\n",
    "    value_label(plt_2)\n",
    "    value_label(plt_3)\n",
    "    plt.title(title)\n",
    "    plt.legend()\n",
    "    plt.show()\n",
    "    "
   ]
  },
  {
   "cell_type": "code",
   "execution_count": null,
   "metadata": {
    "scrolled": true
   },
   "outputs": [],
   "source": [
    "print(my_ploting(cat_mkt_cost,'Average Cost of Product Category in Different Markets'))\n",
    "print(my_ploting(cat_mkt_sal, 'Average Sales of Product Category in Different Markets'))\n",
    "print(my_ploting(cat_mkt_prof, 'Average Profit of Product Category in Different Markets'))\n"
   ]
  },
  {
   "cell_type": "code",
   "execution_count": null,
   "metadata": {},
   "outputs": [],
   "source": [
    "# Correlation Among Sales, Cost, discount and Profit\n",
    "\n",
    "cor_data = data[['Cost','Sales', 'Discount', 'Profit', ]]\n",
    "cor  = cor_data.corr()\n",
    "cor\n",
    "cor1 = cor_data[cor_data['Discount']>0]\n",
    "cor1"
   ]
  },
  {
   "cell_type": "code",
   "execution_count": null,
   "metadata": {},
   "outputs": [],
   "source": [
    "plt.figure(figsize = [10, 4])\n",
    "\n",
    "# PLOT ON LEFT\n",
    "plt.subplot(1, 2, 1)\n",
    "#print('zero discount included')\n",
    "sns.heatmap(cor,annot = True, cmap='jet') #zero discount included\n",
    "plt.xlabel('zero discount included')\n",
    "\n",
    "# PLOT ON RIGHT\n",
    "plt.subplot(1, 2, 2)\n",
    "#print('zero discount excluded')\n",
    "sns.heatmap(cor1,annot = True, cmap='jet') #only nonzero discount\n",
    "plt.xlabel('zero discount excluded')\n",
    "\n",
    "\n",
    "plt.show()"
   ]
  },
  {
   "cell_type": "code",
   "execution_count": null,
   "metadata": {},
   "outputs": [],
   "source": []
  },
  {
   "cell_type": "code",
   "execution_count": null,
   "metadata": {},
   "outputs": [],
   "source": []
  },
  {
   "cell_type": "code",
   "execution_count": null,
   "metadata": {
    "scrolled": false
   },
   "outputs": [],
   "source": [
    "\n",
    "sns.pairplot(cor_data)\n",
    "plt.show()"
   ]
  },
  {
   "cell_type": "code",
   "execution_count": null,
   "metadata": {},
   "outputs": [],
   "source": [
    "#When discount is nonzero\n",
    "sns.pairplot(disc_data)\n",
    "plt.show()"
   ]
  },
  {
   "cell_type": "markdown",
   "metadata": {},
   "source": [
    ",,,,,,,,,,,,,,,,,,,,,,,,,,,,,,,,,,,,,,,,,,,,,,,,,,,,,,,,,,,,,,,,,,,,,,,,,,,,,,,,,,,,,,,,,,,,,,,,,"
   ]
  },
  {
   "cell_type": "markdown",
   "metadata": {},
   "source": []
  },
  {
   "cell_type": "code",
   "execution_count": null,
   "metadata": {
    "scrolled": true
   },
   "outputs": [],
   "source": [
    "#Contribution of cost to "
   ]
  },
  {
   "cell_type": "code",
   "execution_count": null,
   "metadata": {},
   "outputs": [],
   "source": []
  },
  {
   "cell_type": "code",
   "execution_count": null,
   "metadata": {},
   "outputs": [],
   "source": [
    "## Unit shipping costs in transporting products to different market through different mode from 2011-2014\n",
    "\n",
    "tb6 = tb5.copy()\n",
    "tb6['First Class'] = tb5['First Class']/tb4['First Class']\n",
    "tb6['Same Day'] = tb5['Same Day']/tb4['Same Day']\n",
    "tb6['Second Class'] = tb5['Second Class']/tb4['Second Class']\n",
    "tb6['Standard Class'] = tb5['Standard Class']/tb4['Standard Class']\n",
    "#tb6['Total'] = tb6[['Canada','APAC']].sum()\n"
   ]
  },
  {
   "cell_type": "code",
   "execution_count": null,
   "metadata": {},
   "outputs": [],
   "source": [
    "# Percentage contribution of each mode of shipment to quantities of items shiped to different markets\n",
    "\n",
    "tb = tb6.copy()\n",
    "tb['First Class'] = tb6['First Class']/tb6['Total'] * 100\n",
    "tb['Same Day'] = tb6['Same Day']/tb6['Total'] * 100\n",
    "tb['Second Class'] = tb5['Second Class']/tb5['Total'] * 100\n",
    "tb['Standard Class'] = tb6['Standard Class']/tb6['Total'] * 100\n",
    "\n",
    "\n",
    "tb"
   ]
  },
  {
   "cell_type": "code",
   "execution_count": null,
   "metadata": {},
   "outputs": [],
   "source": []
  },
  {
   "cell_type": "markdown",
   "metadata": {},
   "source": [
    "### SALES AND PROFIT\n",
    "- treemap showing sales in different country\n",
    "- Sales partterns \n",
    "- Sales of catogory in different markets\n"
   ]
  },
  {
   "cell_type": "code",
   "execution_count": null,
   "metadata": {},
   "outputs": [],
   "source": [
    "sal = data[['Order Date_Y', 'Order Date_M', 'Region', 'Sales', 'Profit']]\n",
    "sal_reg = sal[['Region', 'Sales']].groupby('Region').mean().sort_values('Sales', ascending = False)\n",
    "prof_reg = sal[['Region', 'Profit']].groupby('Region').mean().sort_values('Profit', ascending = False)"
   ]
  },
  {
   "cell_type": "code",
   "execution_count": null,
   "metadata": {},
   "outputs": [],
   "source": [
    "#To show values on barplot\n",
    "def show_values(axs, orient=\"v\", space=.01):\n",
    "    def _single(ax):\n",
    "        if orient == \"v\":\n",
    "            for p in ax.patches:\n",
    "                _x = p.get_x() + p.get_width() / 2\n",
    "                _y = p.get_y() + p.get_height() + (p.get_height()*0.01)\n",
    "                value = '{:.1f}'.format(p.get_height())\n",
    "                ax.text(_x, _y, value, ha=\"center\") \n",
    "        elif orient == \"h\":\n",
    "            for p in ax.patches:\n",
    "                _x = p.get_x() + p.get_width() + float(space)\n",
    "                _y = p.get_y() + p.get_height() - (p.get_height()*0.5)\n",
    "                value = '{:.1f}'.format(p.get_width())\n",
    "                ax.text(_x, _y, value, ha=\"left\")\n",
    "\n",
    "    if isinstance(axs, np.ndarray):\n",
    "        for idx, ax in np.ndenumerate(axs):\n",
    "            _single(ax)\n",
    "    else:\n",
    "        _single(axs)"
   ]
  },
  {
   "cell_type": "code",
   "execution_count": null,
   "metadata": {
    "scrolled": true
   },
   "outputs": [],
   "source": [
    "plt.figure(figsize = [20, 5])\n",
    "\n",
    "# PLOT ON LEFT\n",
    "plt.subplot(1, 2, 1)\n",
    "p = sns.barplot(x=sal_reg[\"Sales\"], y=sal_reg.index, data=sal_reg, color=\"blue\", saturation=.5)\n",
    "#show values on barplot\n",
    "show_values(p, \"h\", space=0)\n",
    "plt.title('Average Sales in Regions (2011-2014)')\n",
    "\n",
    "# PLOT ON RIGHT\n",
    "plt.subplot(1, 2, 2)\n",
    "p = sns.barplot(x=prof_reg[\"Profit\"], y=prof_reg.index, data=prof_reg, color=\"salmon\", saturation=.5)\n",
    "#show values on barplot\n",
    "show_values(p, \"h\", space=0)\n",
    "plt.title('Average Profit in Regions (2011-2014)')\n",
    "\n",
    "plt.show()\n"
   ]
  },
  {
   "cell_type": "markdown",
   "metadata": {},
   "source": [
    "###### Taking the last 3 countries where sales is low"
   ]
  },
  {
   "cell_type": "code",
   "execution_count": null,
   "metadata": {},
   "outputs": [],
   "source": [
    "cd = sal[sal['Region']=='Canada']\n",
    "af = sal[sal['Region']=='Africal']\n",
    "em = sal[sal['Region']=='EMEA']\n",
    "\n",
    "#or 'Africa' or 'EMEA'"
   ]
  },
  {
   "cell_type": "code",
   "execution_count": null,
   "metadata": {},
   "outputs": [],
   "source": [
    "tb5 = cd.groupby(['Order Date_Y', 'Order Date_M'], sort=False)[['Sales']].mean()\n",
    "\n",
    "y_2011 = tb5.loc[2011]\n",
    "y_2012 = tb5.loc[2012]\n",
    "y_2013 = tb5.loc[2013]\n",
    "y_2014 = tb5.loc[2014]\n",
    "\n",
    "\n",
    "\n",
    "plt.figure(figsize = [6, 3])\n",
    "\n",
    "\n",
    "fig, ax = plt.subplots(2, 1)\n",
    "\n",
    "ax[0].plot(y_2011.index, y_2011['Sales'], label='2011')\n",
    "\n",
    "ax[1].plot(y_2012.index, y_2012['Sales'], label='2012')\n",
    "\n",
    "# plt.plot(y_2012.index, y_2012['Sales'], label='2013')\n",
    "# plt.plot(y_2014.index, y_2014['Sales'], label='2014')\n",
    "plt.title(\"Average Sales\")\n",
    "plt.xticks(rotation = 30)\n",
    "plt.legend()"
   ]
  },
  {
   "cell_type": "code",
   "execution_count": null,
   "metadata": {},
   "outputs": [],
   "source": [
    "\n"
   ]
  },
  {
   "cell_type": "code",
   "execution_count": null,
   "metadata": {},
   "outputs": [],
   "source": [
    "data.head(1)\n"
   ]
  },
  {
   "cell_type": "markdown",
   "metadata": {},
   "source": [
    "### Analysis on General Sales"
   ]
  },
  {
   "cell_type": "code",
   "execution_count": null,
   "metadata": {
    "scrolled": true
   },
   "outputs": [],
   "source": [
    "sales_2011 = data[data['Order Date_Y']==2011][['Sales']]\n",
    "sales_2012 = data[data['Order Date_Y']==2011][['Sales']]\n",
    "sales_2013 = data[data['Order Date_Y']==2011][['Sales']]\n",
    "sales_2014 = data[data['Order Date_Y']==2011][['Sales']]\n",
    "\n",
    "#Rename columns\n",
    "sales_2011.rename(columns={'Sales', 'Sales_2011'}, inplace=True)\n",
    "sales_2011"
   ]
  },
  {
   "cell_type": "code",
   "execution_count": null,
   "metadata": {},
   "outputs": [],
   "source": [
    "cat_mkt_sal = cd.pivot_table(index = 'Region',values = 'Sales',columns = 'Category',aggfunc='mean')\n"
   ]
  },
  {
   "cell_type": "code",
   "execution_count": null,
   "metadata": {
    "scrolled": true
   },
   "outputs": [],
   "source": [
    "general_sales = data.groupby(['Market', 'Country'], sort=False)[['Sales']]\\\n",
    ".mean().sort_values('Sales',ascending=False)\n"
   ]
  },
  {
   "cell_type": "code",
   "execution_count": null,
   "metadata": {},
   "outputs": [],
   "source": [
    "def sales_graph (mkt):\n",
    "    plt.figure(figsize=(6,10))\n",
    "\n",
    "    Canada = general_sales.loc['Canada']\n",
    "    Africa = general_sales.loc['Africa']\n",
    "    EMEA = general_sales.loc['EMEA']\n",
    "    EU = general_sales.loc['EU']\n",
    "    US = general_sales.loc['US']\n",
    "    LATAM = general_sales.loc['LATAM']\n",
    "    APAC = general_sales.loc['APAC']\n",
    "    America = pd.concat([Canada, US])\n",
    "    #plt.figure(figsize = (10,8))\n",
    "    #fig, ax = pltisubplots(2,1)\n",
    "    \n",
    "    if mkt ==  'Canada':\n",
    "        plt.barh(Canada.index, Canada['Sales'], label='Canada')\n",
    "    elif mkt == 'Africa':\n",
    "        plt.barh(Africa.index, Africa['Sales'], label='Africa', color = 'green')\n",
    "    elif mkt == 'EMEA':\n",
    "        plt.barh(EMEA.index, EMEA['Sales'], label='EMEA', color = 'purple')\n",
    "    elif mkt == 'EU':\n",
    "        plt.barh(EU.index, EU['Sales'], label='EU', color = 'brown')\n",
    "    elif mkt == 'US':\n",
    "        plt.barh(US.index, US['Sales'], label='US', color = 'pink')\n",
    "    elif mkt == 'LATAM':\n",
    "        plt.barh(LATAM.index, LATAM['Sales'], label='LATAM', color = 'black')\n",
    "    elif mkt == 'APAC':\n",
    "        plt.barh(APAC.index, APAC['Sales'], label='APAC')   \n",
    "    elif mkt ==  'America':\n",
    "            plt.bar(America.index, America['Sales'], label='America')    \n",
    "    \n",
    "#     plt.legend()\n"
   ]
  },
  {
   "cell_type": "markdown",
   "metadata": {},
   "source": [
    "#### 1. Sales in Africa"
   ]
  },
  {
   "cell_type": "code",
   "execution_count": null,
   "metadata": {},
   "outputs": [],
   "source": [
    "sales_graph('Africa')"
   ]
  },
  {
   "cell_type": "markdown",
   "metadata": {},
   "source": [
    "#### 2. Sales in EMEA"
   ]
  },
  {
   "cell_type": "code",
   "execution_count": null,
   "metadata": {},
   "outputs": [],
   "source": [
    "sales_graph('EMEA')"
   ]
  },
  {
   "cell_type": "markdown",
   "metadata": {},
   "source": [
    "#### 3. Sales in EU"
   ]
  },
  {
   "cell_type": "code",
   "execution_count": null,
   "metadata": {},
   "outputs": [],
   "source": [
    "sales_graph('EU')"
   ]
  },
  {
   "cell_type": "markdown",
   "metadata": {},
   "source": [
    "#### 4. Sales in LATAM"
   ]
  },
  {
   "cell_type": "code",
   "execution_count": null,
   "metadata": {},
   "outputs": [],
   "source": [
    "sales_graph('LATAM')"
   ]
  },
  {
   "cell_type": "markdown",
   "metadata": {},
   "source": [
    "#### 5. Sales in APAC"
   ]
  },
  {
   "cell_type": "code",
   "execution_count": null,
   "metadata": {},
   "outputs": [],
   "source": [
    "sales_graph('APAC')"
   ]
  },
  {
   "cell_type": "markdown",
   "metadata": {},
   "source": [
    "#### 6. Sales in America"
   ]
  },
  {
   "cell_type": "code",
   "execution_count": null,
   "metadata": {},
   "outputs": [],
   "source": [
    "sales_graph('America')"
   ]
  },
  {
   "cell_type": "code",
   "execution_count": null,
   "metadata": {},
   "outputs": [],
   "source": []
  },
  {
   "cell_type": "code",
   "execution_count": null,
   "metadata": {},
   "outputs": [],
   "source": []
  }
 ],
 "metadata": {
  "kernelspec": {
   "display_name": "Python 3 (ipykernel)",
   "language": "python",
   "name": "python3"
  },
  "language_info": {
   "codemirror_mode": {
    "name": "ipython",
    "version": 3
   },
   "file_extension": ".py",
   "mimetype": "text/x-python",
   "name": "python",
   "nbconvert_exporter": "python",
   "pygments_lexer": "ipython3",
   "version": "3.8.3"
  }
 },
 "nbformat": 4,
 "nbformat_minor": 4
}
